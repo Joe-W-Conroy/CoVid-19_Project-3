{
 "cells": [
  {
   "cell_type": "markdown",
   "metadata": {},
   "source": [
    "#### Libraries"
   ]
  },
  {
   "cell_type": "code",
   "execution_count": 1,
   "metadata": {},
   "outputs": [],
   "source": [
    "import re\n",
    "import pandas as pd\n",
    "import matplotlib.pyplot as plt\n",
    "from sklearn.model_selection import train_test_split, cross_val_score, cross_val_predict\n",
    "from sklearn import svm, datasets, linear_model\n",
    "from sklearn.preprocessing import StandardScaler\n",
    "from sklearn.linear_model import LinearRegression\n",
    "from sklearn.metrics import mean_squared_error\n",
    "import numpy as np\n",
    "from datetime import date, datetime, timedelta"
   ]
  },
  {
   "cell_type": "markdown",
   "metadata": {},
   "source": [
    "#### Get The Testing Data Set Up"
   ]
  },
  {
   "cell_type": "code",
   "execution_count": 2,
   "metadata": {},
   "outputs": [
    {
     "data": {
      "text/html": [
       "<div>\n",
       "<style scoped>\n",
       "    .dataframe tbody tr th:only-of-type {\n",
       "        vertical-align: middle;\n",
       "    }\n",
       "\n",
       "    .dataframe tbody tr th {\n",
       "        vertical-align: top;\n",
       "    }\n",
       "\n",
       "    .dataframe thead th {\n",
       "        text-align: right;\n",
       "    }\n",
       "</style>\n",
       "<table border=\"1\" class=\"dataframe\">\n",
       "  <thead>\n",
       "    <tr style=\"text-align: right;\">\n",
       "      <th></th>\n",
       "      <th>Unnamed: 0</th>\n",
       "      <th>Province_State</th>\n",
       "      <th>Country_Region</th>\n",
       "      <th>Last_Update</th>\n",
       "      <th>Lat</th>\n",
       "      <th>Long_</th>\n",
       "      <th>Confirmed</th>\n",
       "      <th>Deaths</th>\n",
       "      <th>Recovered</th>\n",
       "      <th>Active</th>\n",
       "      <th>FIPS</th>\n",
       "      <th>Incident_Rate</th>\n",
       "      <th>People_Tested</th>\n",
       "      <th>People_Hospitalized</th>\n",
       "      <th>Mortality_Rate</th>\n",
       "      <th>UID</th>\n",
       "      <th>ISO3</th>\n",
       "      <th>Testing_Rate</th>\n",
       "      <th>Hospitalization_Rate</th>\n",
       "    </tr>\n",
       "  </thead>\n",
       "  <tbody>\n",
       "    <tr>\n",
       "      <th>0</th>\n",
       "      <td>0</td>\n",
       "      <td>Alabama</td>\n",
       "      <td>US</td>\n",
       "      <td>2020-04-12 23:18:15</td>\n",
       "      <td>32.3182</td>\n",
       "      <td>-86.9023</td>\n",
       "      <td>3563</td>\n",
       "      <td>93</td>\n",
       "      <td>NaN</td>\n",
       "      <td>3470.0</td>\n",
       "      <td>1.0</td>\n",
       "      <td>75.988020</td>\n",
       "      <td>21583.0</td>\n",
       "      <td>437.0</td>\n",
       "      <td>2.610160</td>\n",
       "      <td>84000001.0</td>\n",
       "      <td>USA</td>\n",
       "      <td>460.300152</td>\n",
       "      <td>12.264945</td>\n",
       "    </tr>\n",
       "    <tr>\n",
       "      <th>1</th>\n",
       "      <td>1</td>\n",
       "      <td>Alaska</td>\n",
       "      <td>US</td>\n",
       "      <td>2020-04-12 23:18:15</td>\n",
       "      <td>61.3707</td>\n",
       "      <td>-152.4044</td>\n",
       "      <td>272</td>\n",
       "      <td>8</td>\n",
       "      <td>66.0</td>\n",
       "      <td>264.0</td>\n",
       "      <td>2.0</td>\n",
       "      <td>45.504049</td>\n",
       "      <td>8038.0</td>\n",
       "      <td>31.0</td>\n",
       "      <td>2.941176</td>\n",
       "      <td>84000002.0</td>\n",
       "      <td>USA</td>\n",
       "      <td>1344.711576</td>\n",
       "      <td>11.397059</td>\n",
       "    </tr>\n",
       "    <tr>\n",
       "      <th>2</th>\n",
       "      <td>2</td>\n",
       "      <td>Arizona</td>\n",
       "      <td>US</td>\n",
       "      <td>2020-04-12 23:18:15</td>\n",
       "      <td>33.7298</td>\n",
       "      <td>-111.4312</td>\n",
       "      <td>3542</td>\n",
       "      <td>115</td>\n",
       "      <td>NaN</td>\n",
       "      <td>3427.0</td>\n",
       "      <td>4.0</td>\n",
       "      <td>48.662422</td>\n",
       "      <td>42109.0</td>\n",
       "      <td>NaN</td>\n",
       "      <td>3.246753</td>\n",
       "      <td>84000004.0</td>\n",
       "      <td>USA</td>\n",
       "      <td>578.522286</td>\n",
       "      <td>NaN</td>\n",
       "    </tr>\n",
       "    <tr>\n",
       "      <th>3</th>\n",
       "      <td>3</td>\n",
       "      <td>Arkansas</td>\n",
       "      <td>US</td>\n",
       "      <td>2020-04-12 23:18:15</td>\n",
       "      <td>34.9697</td>\n",
       "      <td>-92.3731</td>\n",
       "      <td>1280</td>\n",
       "      <td>27</td>\n",
       "      <td>367.0</td>\n",
       "      <td>1253.0</td>\n",
       "      <td>5.0</td>\n",
       "      <td>49.439423</td>\n",
       "      <td>19722.0</td>\n",
       "      <td>130.0</td>\n",
       "      <td>2.109375</td>\n",
       "      <td>84000005.0</td>\n",
       "      <td>USA</td>\n",
       "      <td>761.753354</td>\n",
       "      <td>10.156250</td>\n",
       "    </tr>\n",
       "    <tr>\n",
       "      <th>4</th>\n",
       "      <td>4</td>\n",
       "      <td>California</td>\n",
       "      <td>US</td>\n",
       "      <td>2020-04-12 23:18:15</td>\n",
       "      <td>36.1162</td>\n",
       "      <td>-119.6816</td>\n",
       "      <td>22795</td>\n",
       "      <td>640</td>\n",
       "      <td>NaN</td>\n",
       "      <td>22155.0</td>\n",
       "      <td>6.0</td>\n",
       "      <td>58.137726</td>\n",
       "      <td>190328.0</td>\n",
       "      <td>5234.0</td>\n",
       "      <td>2.812020</td>\n",
       "      <td>84000006.0</td>\n",
       "      <td>USA</td>\n",
       "      <td>485.423869</td>\n",
       "      <td>22.961176</td>\n",
       "    </tr>\n",
       "  </tbody>\n",
       "</table>\n",
       "</div>"
      ],
      "text/plain": [
       "   Unnamed: 0 Province_State Country_Region          Last_Update      Lat  \\\n",
       "0           0        Alabama             US  2020-04-12 23:18:15  32.3182   \n",
       "1           1         Alaska             US  2020-04-12 23:18:15  61.3707   \n",
       "2           2        Arizona             US  2020-04-12 23:18:15  33.7298   \n",
       "3           3       Arkansas             US  2020-04-12 23:18:15  34.9697   \n",
       "4           4     California             US  2020-04-12 23:18:15  36.1162   \n",
       "\n",
       "      Long_  Confirmed  Deaths  Recovered   Active  FIPS  Incident_Rate  \\\n",
       "0  -86.9023       3563      93        NaN   3470.0   1.0      75.988020   \n",
       "1 -152.4044        272       8       66.0    264.0   2.0      45.504049   \n",
       "2 -111.4312       3542     115        NaN   3427.0   4.0      48.662422   \n",
       "3  -92.3731       1280      27      367.0   1253.0   5.0      49.439423   \n",
       "4 -119.6816      22795     640        NaN  22155.0   6.0      58.137726   \n",
       "\n",
       "   People_Tested  People_Hospitalized  Mortality_Rate         UID ISO3  \\\n",
       "0        21583.0                437.0        2.610160  84000001.0  USA   \n",
       "1         8038.0                 31.0        2.941176  84000002.0  USA   \n",
       "2        42109.0                  NaN        3.246753  84000004.0  USA   \n",
       "3        19722.0                130.0        2.109375  84000005.0  USA   \n",
       "4       190328.0               5234.0        2.812020  84000006.0  USA   \n",
       "\n",
       "   Testing_Rate  Hospitalization_Rate  \n",
       "0    460.300152             12.264945  \n",
       "1   1344.711576             11.397059  \n",
       "2    578.522286                   NaN  \n",
       "3    761.753354             10.156250  \n",
       "4    485.423869             22.961176  "
      ]
     },
     "execution_count": 2,
     "metadata": {},
     "output_type": "execute_result"
    }
   ],
   "source": [
    "data = pd.read_csv('Resources/US_Data.csv')\n",
    "data.head()"
   ]
  },
  {
   "cell_type": "code",
   "execution_count": 3,
   "metadata": {},
   "outputs": [
    {
     "data": {
      "text/html": [
       "<div>\n",
       "<style scoped>\n",
       "    .dataframe tbody tr th:only-of-type {\n",
       "        vertical-align: middle;\n",
       "    }\n",
       "\n",
       "    .dataframe tbody tr th {\n",
       "        vertical-align: top;\n",
       "    }\n",
       "\n",
       "    .dataframe thead th {\n",
       "        text-align: right;\n",
       "    }\n",
       "</style>\n",
       "<table border=\"1\" class=\"dataframe\">\n",
       "  <thead>\n",
       "    <tr style=\"text-align: right;\">\n",
       "      <th></th>\n",
       "      <th>Confirmed</th>\n",
       "      <th>Deaths</th>\n",
       "      <th>Recovered</th>\n",
       "      <th>Active</th>\n",
       "      <th>FIPS</th>\n",
       "      <th>Incident_Rate</th>\n",
       "      <th>People_Tested</th>\n",
       "      <th>People_Hospitalized</th>\n",
       "      <th>Mortality_Rate</th>\n",
       "      <th>UID</th>\n",
       "      <th>Testing_Rate</th>\n",
       "      <th>Hospitalization_Rate</th>\n",
       "    </tr>\n",
       "    <tr>\n",
       "      <th>Last_Update</th>\n",
       "      <th></th>\n",
       "      <th></th>\n",
       "      <th></th>\n",
       "      <th></th>\n",
       "      <th></th>\n",
       "      <th></th>\n",
       "      <th></th>\n",
       "      <th></th>\n",
       "      <th></th>\n",
       "      <th></th>\n",
       "      <th></th>\n",
       "      <th></th>\n",
       "    </tr>\n",
       "  </thead>\n",
       "  <tbody>\n",
       "    <tr>\n",
       "      <th>2020-04-12</th>\n",
       "      <td>555262</td>\n",
       "      <td>22018</td>\n",
       "      <td>34108.0</td>\n",
       "      <td>533244.0</td>\n",
       "      <td>3571.0</td>\n",
       "      <td>7349.862704</td>\n",
       "      <td>2805539.0</td>\n",
       "      <td>92248.0</td>\n",
       "      <td>179.129862</td>\n",
       "      <td>4.452192e+09</td>\n",
       "      <td>52305.870218</td>\n",
       "      <td>698.013149</td>\n",
       "    </tr>\n",
       "    <tr>\n",
       "      <th>2020-04-13</th>\n",
       "      <td>559600</td>\n",
       "      <td>23029</td>\n",
       "      <td>35442.0</td>\n",
       "      <td>536571.0</td>\n",
       "      <td>190637.0</td>\n",
       "      <td>7645.721482</td>\n",
       "      <td>2738796.0</td>\n",
       "      <td>89969.0</td>\n",
       "      <td>180.542529</td>\n",
       "      <td>4.368193e+09</td>\n",
       "      <td>54681.645813</td>\n",
       "      <td>713.066489</td>\n",
       "    </tr>\n",
       "    <tr>\n",
       "      <th>2020-04-14</th>\n",
       "      <td>628689</td>\n",
       "      <td>26330</td>\n",
       "      <td>37645.0</td>\n",
       "      <td>704359.0</td>\n",
       "      <td>190661.0</td>\n",
       "      <td>8723.524539</td>\n",
       "      <td>3277824.0</td>\n",
       "      <td>103850.0</td>\n",
       "      <td>192.053836</td>\n",
       "      <td>4.536193e+09</td>\n",
       "      <td>59146.540441</td>\n",
       "      <td>754.385940</td>\n",
       "    </tr>\n",
       "    <tr>\n",
       "      <th>2020-04-15</th>\n",
       "      <td>636350</td>\n",
       "      <td>28325</td>\n",
       "      <td>39405.0</td>\n",
       "      <td>608025.0</td>\n",
       "      <td>190649.0</td>\n",
       "      <td>8520.747540</td>\n",
       "      <td>3242752.0</td>\n",
       "      <td>103839.0</td>\n",
       "      <td>196.366401</td>\n",
       "      <td>4.452193e+09</td>\n",
       "      <td>61138.422190</td>\n",
       "      <td>743.813574</td>\n",
       "    </tr>\n",
       "    <tr>\n",
       "      <th>2020-04-16</th>\n",
       "      <td>667801</td>\n",
       "      <td>32916</td>\n",
       "      <td>42032.0</td>\n",
       "      <td>634885.0</td>\n",
       "      <td>190649.0</td>\n",
       "      <td>8963.545726</td>\n",
       "      <td>3401061.0</td>\n",
       "      <td>108942.0</td>\n",
       "      <td>202.639694</td>\n",
       "      <td>4.452193e+09</td>\n",
       "      <td>63666.828626</td>\n",
       "      <td>717.989665</td>\n",
       "    </tr>\n",
       "  </tbody>\n",
       "</table>\n",
       "</div>"
      ],
      "text/plain": [
       "             Confirmed  Deaths  Recovered    Active      FIPS  Incident_Rate  \\\n",
       "Last_Update                                                                    \n",
       "2020-04-12      555262   22018    34108.0  533244.0    3571.0    7349.862704   \n",
       "2020-04-13      559600   23029    35442.0  536571.0  190637.0    7645.721482   \n",
       "2020-04-14      628689   26330    37645.0  704359.0  190661.0    8723.524539   \n",
       "2020-04-15      636350   28325    39405.0  608025.0  190649.0    8520.747540   \n",
       "2020-04-16      667801   32916    42032.0  634885.0  190649.0    8963.545726   \n",
       "\n",
       "             People_Tested  People_Hospitalized  Mortality_Rate           UID  \\\n",
       "Last_Update                                                                     \n",
       "2020-04-12       2805539.0              92248.0      179.129862  4.452192e+09   \n",
       "2020-04-13       2738796.0              89969.0      180.542529  4.368193e+09   \n",
       "2020-04-14       3277824.0             103850.0      192.053836  4.536193e+09   \n",
       "2020-04-15       3242752.0             103839.0      196.366401  4.452193e+09   \n",
       "2020-04-16       3401061.0             108942.0      202.639694  4.452193e+09   \n",
       "\n",
       "             Testing_Rate  Hospitalization_Rate  \n",
       "Last_Update                                      \n",
       "2020-04-12   52305.870218            698.013149  \n",
       "2020-04-13   54681.645813            713.066489  \n",
       "2020-04-14   59146.540441            754.385940  \n",
       "2020-04-15   61138.422190            743.813574  \n",
       "2020-04-16   63666.828626            717.989665  "
      ]
     },
     "execution_count": 3,
     "metadata": {},
     "output_type": "execute_result"
    }
   ],
   "source": [
    "usa = data.groupby('Last_Update').sum()\n",
    "usa = usa.drop(columns=['Lat', 'Long_', 'Unnamed: 0'])\n",
    "\n",
    "for i in range(len(usa.index.values)):\n",
    "    usa.index.values[i] = re.split(' +', usa.index.values[i])[0]\n",
    "\n",
    "usa = usa.groupby('Last_Update').sum()\n",
    "usa.head()"
   ]
  },
  {
   "cell_type": "code",
   "execution_count": 4,
   "metadata": {},
   "outputs": [
    {
     "name": "stdout",
     "output_type": "stream",
     "text": [
      "(129, 1) (129, 2)\n"
     ]
    }
   ],
   "source": [
    "X = np.array([[0]])\n",
    "y = usa[[\"Confirmed\", \"Deaths\"]]\n",
    "\n",
    "# Might as well convert to 'days from first record date' to avoid datatype\n",
    "# issues\n",
    "for i in range(len(usa.index.values) - 1):\n",
    "    X = np.concatenate((X, np.array([[i + 1]])))\n",
    "print(X.shape, y.shape)"
   ]
  },
  {
   "cell_type": "code",
   "execution_count": 5,
   "metadata": {},
   "outputs": [
    {
     "name": "stdout",
     "output_type": "stream",
     "text": [
      "Scalers: StandardScaler(), StandardScaler()\n"
     ]
    }
   ],
   "source": [
    "X_train, X_test, y_train, y_test = train_test_split(X, y, random_state=42)\n",
    "\n",
    "scaler_x = StandardScaler().fit(X_train)\n",
    "scaler_y = StandardScaler().fit(y_train)\n",
    "\n",
    "X_train_scaled = scaler_x.transform(X_train)\n",
    "X_test_scaled = scaler_x.transform(X_test)\n",
    "y_train_scaled = scaler_y.transform(y_train)\n",
    "y_test_scaled = scaler_y.transform(y_test)\n",
    "\n",
    "print(f\"Scalers: {scaler_x}, {scaler_y}\")"
   ]
  },
  {
   "cell_type": "markdown",
   "metadata": {},
   "source": [
    "### Aggregate Analysis"
   ]
  },
  {
   "cell_type": "code",
   "execution_count": 6,
   "metadata": {},
   "outputs": [
    {
     "name": "stdout",
     "output_type": "stream",
     "text": [
      "0.954628679188835\n"
     ]
    }
   ],
   "source": [
    "model = LinearRegression()\n",
    "model.fit(X_train_scaled, y_train_scaled)\n",
    "print(model.score(X_test_scaled, y_test_scaled))"
   ]
  },
  {
   "cell_type": "code",
   "execution_count": 7,
   "metadata": {},
   "outputs": [
    {
     "name": "stdout",
     "output_type": "stream",
     "text": [
      "MSE: 0.045547170483415694, R2: 0.954628679188835\n"
     ]
    }
   ],
   "source": [
    "predictions = model.predict(X_test_scaled)\n",
    "MSE = mean_squared_error(y_test_scaled, predictions)\n",
    "r2 = model.score(X_test_scaled, y_test_scaled)\n",
    "\n",
    "print(f\"MSE: {MSE}, R2: {r2}\")"
   ]
  },
  {
   "cell_type": "markdown",
   "metadata": {},
   "source": [
    "### Displaying Aggregate items"
   ]
  },
  {
   "cell_type": "code",
   "execution_count": 8,
   "metadata": {},
   "outputs": [
    {
     "data": {
      "text/plain": [
       "<matplotlib.collections.PathCollection at 0x2b3346e53c8>"
      ]
     },
     "execution_count": 8,
     "metadata": {},
     "output_type": "execute_result"
    },
    {
     "data": {
      "image/png": "[encoded data removed]",
      "text/plain": [
       "<Figure size 432x288 with 1 Axes>"
      ]
     },
     "metadata": {
      "needs_background": "light"
     },
     "output_type": "display_data"
    }
   ],
   "source": [
    "scatter_day = range(usa.count().min())\n",
    "scatter_deaths = []\n",
    "scatter_cases = []\n",
    "\n",
    "for i in scatter_day:\n",
    "    scatter_deaths.append(usa['Deaths'][i])\n",
    "    scatter_cases.append(usa['Confirmed'][i])\n",
    "\n",
    "plt.scatter(scatter_day, scatter_deaths)\n",
    "plt.scatter(scatter_day, scatter_cases)"
   ]
  },
  {
   "cell_type": "code",
   "execution_count": 9,
   "metadata": {},
   "outputs": [
    {
     "data": {
      "image/png": "[encoded data removed]",
      "text/plain": [
       "<Figure size 432x288 with 1 Axes>"
      ]
     },
     "metadata": {
      "needs_background": "light"
     },
     "output_type": "display_data"
    }
   ],
   "source": [
    "plt.scatter((model.predict(X_train_scaled)), model.predict(X_train_scaled) - y_train_scaled, c=\"blue\", label=\"Training Data\")\n",
    "plt.scatter(model.predict(X_test_scaled), model.predict(X_test_scaled) - y_test_scaled, c=\"red\", label=\"Testing Data\")\n",
    "plt.legend()\n",
    "plt.hlines(y=0, xmin=y_test_scaled.min(), xmax=y_test_scaled.max())\n",
    "plt.title(\"Residual Plot\")\n",
    "plt.show()"
   ]
  },
  {
   "cell_type": "code",
   "execution_count": 10,
   "metadata": {},
   "outputs": [
    {
     "data": {
      "image/png": "[encoded data removed]",
      "text/plain": [
       "<Figure size 432x288 with 1 Axes>"
      ]
     },
     "metadata": {
      "needs_background": "light"
     },
     "output_type": "display_data"
    }
   ],
   "source": [
    "predicted = cross_val_predict(model, X, y, cv=10)\n",
    "fig, ax = plt.subplots()\n",
    "ax.scatter(y, predicted)\n",
    "ax.plot([y.min(), y.max()], [y.min(), y.max()], 'k--', lw=4)\n",
    "ax.set_xlabel('Measured-Covid-Cases')\n",
    "ax.set_ylabel('Predicted-Covid-Cases')\n",
    "plt.show()"
   ]
  },
  {
   "cell_type": "code",
   "execution_count": 11,
   "metadata": {},
   "outputs": [
    {
     "data": {
      "image/png": "[encoded data removed]",
      "text/plain": [
       "<Figure size 432x288 with 1 Axes>"
      ]
     },
     "metadata": {},
     "output_type": "display_data"
    }
   ],
   "source": [
    "X = np.array([[0]])\n",
    "y = usa[[\"Confirmed\"]]\n",
    "\n",
    "for i in range(len(usa.index.values) - 1):\n",
    "    X = np.concatenate((X, np.array([[i + 1]])))\n",
    "\n",
    "X_train, X_test, y_train, y_test = train_test_split(X, y, random_state=42)\n",
    "\n",
    "scaler_x = StandardScaler().fit(X_train)\n",
    "scaler_y = StandardScaler().fit(y_train)\n",
    "\n",
    "X_train_scaled = scaler_x.transform(X_train)\n",
    "X_test_scaled = scaler_x.transform(X_test)\n",
    "y_train_scaled = scaler_y.transform(y_train)\n",
    "y_test_scaled = scaler_y.transform(y_test)\n",
    "\n",
    "linreg = linear_model.LinearRegression()\n",
    "\n",
    "try:\n",
    "    linreg.fit(X_train, y_train)\n",
    "except ValueError:\n",
    "    linreg.fit(X_train, y_train)\n",
    "\n",
    "y_predict = linreg.predict(X_train)\n",
    "\n",
    "plt.scatter(X_train, y_train, color='black')\n",
    "plt.plot(X_train, y_predict, color='red', linewidth=3)\n",
    "plt.xticks(())\n",
    "plt.yticks(())\n",
    "plt.savefig(\"../Resources/assets/images/ML/Predict-Link.png\")\n",
    "plt.show()"
   ]
  },
  {
   "cell_type": "markdown",
   "metadata": {},
   "source": [
    "### Partial Predictability"
   ]
  },
  {
   "cell_type": "code",
   "execution_count": 12,
   "metadata": {},
   "outputs": [
    {
     "name": "stdout",
     "output_type": "stream",
     "text": [
      "dict_keys(['04', '05', '06', '07', '08'])\n"
     ]
    }
   ],
   "source": [
    "X_months = {}\n",
    "\n",
    "for date_holder in usa.index.copy().values.reshape(-1, 1):\n",
    "    date = re.split('-', date_holder[0])\n",
    "\n",
    "    try:\n",
    "        X_months[date[1]] = X_months[date[1]].append(usa.loc[usa.index.values == date_holder[0]])\n",
    "    except KeyError:\n",
    "        X_months[date[1]] = usa.loc[usa.index.values == date_holder[0]]\n",
    "\n",
    "print(X_months.keys())"
   ]
  },
  {
   "cell_type": "code",
   "execution_count": 13,
   "metadata": {},
   "outputs": [],
   "source": [
    "def CreateTrainingFields(test_x, test_y, rs):\n",
    "    x_train, x_test, Y_train, Y_test = train_test_split(\n",
    "        test_x, test_y, random_state=rs\n",
    "    )\n",
    "\n",
    "    scaler_x = StandardScaler().fit(x_train)\n",
    "    scaler_y = StandardScaler().fit(Y_train)\n",
    "\n",
    "    x_train_scaled = scaler_x.transform(x_train)\n",
    "    x_test_scaled = scaler_days.transform(x_test)\n",
    "\n",
    "    Y_train_scaled = scaler_y.transform(Y_train)\n",
    "    Y_test_scaled = scaler_y.transform(Y_test)\n",
    "\n",
    "    return(x_train, x_test, Y_train, Y_test, scaler_x, scaler_y, x_train_scaled, Y_train_scaled, Y_test_scaled)"
   ]
  },
  {
   "cell_type": "code",
   "execution_count": 14,
   "metadata": {},
   "outputs": [],
   "source": [
    "def PredictValues(keyname, start, end, predictstart, predictend, df):\n",
    "    # First set up the test range\n",
    "    firstdate = datetime.fromisoformat(df.index.values.min())\n",
    "    lastdate = datetime.fromisoformat(df.index.values.max())\n",
    "\n",
    "    if (datetime.fromisoformat(start) < firstdate):\n",
    "        print(f'Warning:  Start date {start} is before the first date in the data ({firstdate})')\n",
    "        print('Defaulting to first date in the data')\n",
    "        days_data = np.array([[0]])\n",
    "    else:\n",
    "        days_data = np.array([[(datetime.fromisoformat(start) - firstdate).days]])\n",
    "\n",
    "    if (lastdate < datetime.fromisoformat(end)):\n",
    "        print(f'Warning:  End date {end} is after the last date in the data ({lastdate})')\n",
    "        print('Defaulting to up to the last date in the data')\n",
    "        for i in range(days_data[0][0], df.count().max()):\n",
    "            if (re.split('T', (firstdate + timedelta(days=i)).isoformat())[0] in df.index):\n",
    "                days_data = np.concatenate((days_data, np.array([[i + 1]])))\n",
    "    else:\n",
    "        for i in range(days_data[0][0], (datetime.fromisoformat(end) - firstdate).days):\n",
    "            if (re.split('T', (firstdate + timedelta(days=i)).isoformat())[0] in df.index):\n",
    "                days_data = np.concatenate((days_data, np.array([[i + 1]])))\n",
    "    \n",
    "    # Then the range we're predicting\n",
    "    days_pred = np.array([[(datetime.fromisoformat(predictstart) - firstdate).days]])\n",
    "\n",
    "    for i in range(days_pred[0][0], (datetime.fromisoformat(predictend) - firstdate).days):\n",
    "        if (re.split('T', (firstdate + timedelta(days=i)).isoformat())[0] in df.index):\n",
    "            days_pred = np.concatenate((days_pred, np.array([[i + 1]])))\n",
    "    \n",
    "    # Now for the two sets of data\n",
    "    trait = df[keyname][start:end].values.reshape(-1, 1)\n",
    "    trait_pred = df[keyname][predictstart:predictend].values.reshape(-1, 1)\n",
    "    \n",
    "    # Then the linear predicting data module\n",
    "    loc_linreg = linear_model.LinearRegression()\n",
    "    \n",
    "    try:\n",
    "        loc_linreg.fit(days_data, trait)\n",
    "    except ValueError:\n",
    "        loc_linreg.fit(days_data, trait)\n",
    "\n",
    "    linedata_reg = linreg.predict(days_data)\n",
    "\n",
    "    # Plot the chart of the predicted line given our training data\n",
    "    fit_fig, fig_plot = plt.subplots()\n",
    "    fig_plot.set_xlabel(f'Days from {firstdate}')\n",
    "    fig_plot.set_ylabel(keyname)\n",
    "    fig_plot = plt.scatter(days_data, trait, color='black')\n",
    "    fig_plot = plt.plot(days_data, linedata_reg, color='red', linewidth=3)\n",
    "    plt.savefig(f\"../Resources/assets/images/ML/{keyname}_{start}_through_{end}_pred.png\")\n",
    "    plt.show()\n",
    "    plt.tight_layout()\n",
    "\n",
    "    # Return useful stats\n",
    "    print(f\"X-Coefficient:\\t{linreg.coef_[0][0]}\")\n",
    "    print(f\"Y-Intercept:\\t{linreg.intercept_[0]}\")\n",
    "    print(f\"R^2:\\t\\t{linreg.score(days_data, trait)}\\n\")\n",
    "\n",
    "    # Now create the predicted output\n",
    "    linedata_pred = np.array([[float(days_pred[0][0]) * linreg.coef_[0][0] + linreg.intercept_[0]]])\n",
    "\n",
    "    for i in range(days_pred[0][0], days_pred[-1][0]):\n",
    "        if (re.split('T', (firstdate + timedelta(days=i)).isoformat())[0] in df.index):\n",
    "            thing_to_add = np.array([[(float(i + 1) * linreg.coef_[0][0]) + linreg.intercept_[0]]])        \n",
    "            linedata_pred = np.concatenate((linedata_pred, thing_to_add))\n",
    "\n",
    "    # Plot the predicted output\n",
    "    pred_fig, pred_plot = plt.subplots()\n",
    "    pred_plot.set_xlabel(f'Days from {firstdate}')\n",
    "    pred_plot.set_ylabel(keyname)    \n",
    "    pred_plot = plt.scatter(days_pred, trait_pred, color='black')\n",
    "    pred_plot = plt.plot(days_pred, linedata_pred, color='red', linewidth=3)\n",
    "    plt.savefig(f\"../Resources/assets/images/ML/{keyname}_{predictstart}_through_{predictend}_test.png\")\n",
    "    plt.show()\n",
    "    plt.tight_layout()\n",
    "\n",
    "    # Return the predicted R^2 value\n",
    "    pred_sum = 0\n",
    "    pred_count = 0\n",
    "    pred_mean = 0\n",
    "    sum_squares = 0\n",
    "    explained_sum_squares = 0\n",
    "    resid_sum_squares = 0\n",
    "    det_coeff = 1\n",
    "\n",
    "    tot_holder = []\n",
    "    resid_holder = []\n",
    "    \n",
    "    for field in linedata_pred:\n",
    "        pred_count += 1\n",
    "        pred_sum += field[0]\n",
    "        tot_holder.append(field[0])\n",
    "    \n",
    "    pred_mean = pred_sum / pred_count\n",
    "    \n",
    "    for field in linedata_pred:\n",
    "        sum_squares += (field[0] - pred_mean) ** 2\n",
    "    \n",
    "    for field in trait_pred:\n",
    "        explained_sum_squares += (field[0] - pred_mean) ** 2\n",
    "        resid_holder.append(field[0])\n",
    "\n",
    "    for i in range(len(tot_holder)):\n",
    "        resid_sum_squares += (resid_holder[i] - tot_holder[i]) ** 2\n",
    "    \n",
    "    det_coeff = 1 - (resid_sum_squares / sum_squares)\n",
    "    \n",
    "    print(f'Residual Sum of Squares:\\t{resid_sum_squares}')\n",
    "    print(f'R^2:\\t\\t\\t\\t{det_coeff}')"
   ]
  },
  {
   "cell_type": "code",
   "execution_count": 15,
   "metadata": {},
   "outputs": [
    {
     "data": {
      "image/png": "[encoded data removed]",
      "text/plain": [
       "<Figure size 432x288 with 1 Axes>"
      ]
     },
     "metadata": {
      "needs_background": "light"
     },
     "output_type": "display_data"
    },
    {
     "name": "stdout",
     "output_type": "stream",
     "text": [
      "X-Coefficient:\t37490.252605358\n",
      "Y-Intercept:\t141140.60829341505\n",
      "R^2:\t\t0.5772318959497511\n",
      "\n"
     ]
    },
    {
     "data": {
      "text/plain": [
       "<Figure size 432x288 with 0 Axes>"
      ]
     },
     "metadata": {},
     "output_type": "display_data"
    },
    {
     "data": {
      "image/png": "[encoded data removed]",
      "text/plain": [
       "<Figure size 432x288 with 1 Axes>"
      ]
     },
     "metadata": {
      "needs_background": "light"
     },
     "output_type": "display_data"
    },
    {
     "name": "stdout",
     "output_type": "stream",
     "text": [
      "Residual Sum of Squares:\t2642719218040.5474\n",
      "R^2:\t\t\t\t0.24183696038295188\n"
     ]
    },
    {
     "data": {
      "text/plain": [
       "<Figure size 432x288 with 0 Axes>"
      ]
     },
     "metadata": {},
     "output_type": "display_data"
    }
   ],
   "source": [
    "PredictValues(\n",
    "    'Confirmed',\n",
    "    '2020-05-01',\n",
    "    '2020-05-30',\n",
    "    '2020-07-01',\n",
    "    '2020-07-31',\n",
    "    usa\n",
    ")"
   ]
  },
  {
   "cell_type": "code",
   "execution_count": 16,
   "metadata": {},
   "outputs": [
    {
     "data": {
      "image/png": "[encoded data removed]",
      "text/plain": [
       "<Figure size 432x288 with 1 Axes>"
      ]
     },
     "metadata": {
      "needs_background": "light"
     },
     "output_type": "display_data"
    },
    {
     "name": "stdout",
     "output_type": "stream",
     "text": [
      "X-Coefficient:\t37490.252605358\n",
      "Y-Intercept:\t141140.60829341505\n",
      "R^2:\t\t0.5772318959497511\n",
      "\n"
     ]
    },
    {
     "data": {
      "text/plain": [
       "<Figure size 432x288 with 0 Axes>"
      ]
     },
     "metadata": {},
     "output_type": "display_data"
    },
    {
     "data": {
      "image/png": "[encoded data removed]",
      "text/plain": [
       "<Figure size 432x288 with 1 Axes>"
      ]
     },
     "metadata": {
      "needs_background": "light"
     },
     "output_type": "display_data"
    },
    {
     "name": "stdout",
     "output_type": "stream",
     "text": [
      "Residual Sum of Squares:\t5695878996887.325\n",
      "R^2:\t\t\t\t-0.8031187141993443\n"
     ]
    },
    {
     "data": {
      "text/plain": [
       "<Figure size 432x288 with 0 Axes>"
      ]
     },
     "metadata": {},
     "output_type": "display_data"
    }
   ],
   "source": [
    "PredictValues(\n",
    "    'Confirmed',\n",
    "    '2020-05-01',\n",
    "    '2020-05-30',\n",
    "    '2020-06-01',\n",
    "    '2020-06-30',\n",
    "    usa\n",
    ")"
   ]
  },
  {
   "cell_type": "code",
   "execution_count": null,
   "metadata": {},
   "outputs": [],
   "source": []
  }
 ],
 "metadata": {
  "kernelspec": {
   "display_name": "Python 3",
   "language": "python",
   "name": "python3"
  },
  "language_info": {
   "codemirror_mode": {
    "name": "ipython",
    "version": 3
   },
   "file_extension": ".py",
   "mimetype": "text/x-python",
   "name": "python",
   "nbconvert_exporter": "python",
   "pygments_lexer": "ipython3",
   "version": "3.7.7"
  }
 },
 "nbformat": 4,
 "nbformat_minor": 4
}
