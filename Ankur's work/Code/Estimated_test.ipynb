{
 "cells": [
  {
   "cell_type": "code",
   "execution_count": 1,
   "metadata": {},
   "outputs": [],
   "source": [
    "import numpy as np\n",
    "import pandas as pd\n",
    "import json\n",
    "import math\n",
    "import matplotlib.pyplot as plt\n",
    "import matplotlib as mpl\n",
    "import time\n",
    "import datetime as dt\n",
    "from string import Template\n",
    "import matplotlib.dates as mdates\n",
    "import matplotlib as mpl\n",
    "from pandas_profiling import ProfileReport"
   ]
  },
  {
   "cell_type": "code",
   "execution_count": 2,
   "metadata": {},
   "outputs": [],
   "source": [
    "d = pd.date_range(start='1/1/2020', end='12/31/2020')\n",
    "\n",
    "x = pd.DataFrame(d)\n",
    "x.columns = ['date']\n",
    "#x\n",
    "y =x['date'].dt.strftime('%m-%d-%Y')\n",
    "z = pd.DataFrame(y)\n",
    "#z"
   ]
  },
  {
   "cell_type": "code",
   "execution_count": 3,
   "metadata": {},
   "outputs": [
    {
     "name": "stdout",
     "output_type": "stream",
     "text": [
      "Enter what day (mm-dd-yyyy format) would you like to look data at:\n",
      "08-08-2020\n"
     ]
    }
   ],
   "source": [
    "value_for_filter = input('Enter what day (mm-dd-yyyy format) would you like to look data at:\\n')"
   ]
  },
  {
   "cell_type": "code",
   "execution_count": 4,
   "metadata": {},
   "outputs": [
    {
     "name": "stdout",
     "output_type": "stream",
     "text": [
      "08-08-2020\n"
     ]
    }
   ],
   "source": [
    "df = z[z[\"date\"].isin([value_for_filter])]\n",
    "dates=((df[\"date\"]).to_string(index=False))\n",
    "input_date = dates.strip(' \"\\'\\t\\r\\n')\n",
    "print(input_date)"
   ]
  },
  {
   "cell_type": "code",
   "execution_count": 5,
   "metadata": {},
   "outputs": [
    {
     "name": "stdout",
     "output_type": "stream",
     "text": [
      "https://raw.githubusercontent.com/CSSEGISandData/COVID-19/master/csse_covid_19_data/csse_covid_19_daily_reports/08-08-2020.csv\n"
     ]
    }
   ],
   "source": [
    "url_new = 'https://raw.githubusercontent.com/CSSEGISandData/COVID-19/master/csse_covid_19_data/csse_covid_19_daily_reports/'+ f'{input_date}' +'.csv' \n",
    "print(url_new)"
   ]
  },
  {
   "cell_type": "code",
   "execution_count": 6,
   "metadata": {},
   "outputs": [],
   "source": [
    "diff_df = pd.DataFrame({'days' : [9]*366})\n",
    "len(diff_df)\n",
    "less_diff_df = pd.DataFrame({'justone' : [1]*366})\n",
    "#x"
   ]
  },
  {
   "cell_type": "code",
   "execution_count": 7,
   "metadata": {},
   "outputs": [],
   "source": [
    "x['days'] = diff_df['days'].values\n",
    "x['days'] = diff_df['days'].to_numpy()\n",
    "#print(x)\n",
    "\n",
    "x['diff'] = x['date'] -  pd.to_timedelta(x['days'], unit='d')\n",
    "diff_date = x['diff']\n",
    "#x"
   ]
  },
  {
   "cell_type": "code",
   "execution_count": 8,
   "metadata": {},
   "outputs": [
    {
     "data": {
      "text/plain": [
       "Timestamp('2020-07-30 00:00:00')"
      ]
     },
     "execution_count": 8,
     "metadata": {},
     "output_type": "execute_result"
    }
   ],
   "source": [
    "index_no = (x[x['date']==input_date].index.values)\n",
    "index_int = index_no[0]\n",
    "index_int\n",
    "selected_diff = diff_date[index_int]\n",
    "selected_diff"
   ]
  },
  {
   "cell_type": "code",
   "execution_count": 9,
   "metadata": {},
   "outputs": [
    {
     "name": "stdout",
     "output_type": "stream",
     "text": [
      "07-30-2020\n"
     ]
    }
   ],
   "source": [
    "diff_format = pd.to_datetime(selected_diff)\n",
    "diff_format\n",
    "diff_final = diff_format.strftime('%m-%d-%Y')\n",
    "print(diff_final)"
   ]
  },
  {
   "cell_type": "code",
   "execution_count": 10,
   "metadata": {},
   "outputs": [
    {
     "name": "stdout",
     "output_type": "stream",
     "text": [
      "https://raw.githubusercontent.com/CSSEGISandData/COVID-19/master/csse_covid_19_data/csse_covid_19_daily_reports/07-30-2020.csv\n"
     ]
    }
   ],
   "source": [
    "url_Nine_day_old = 'https://raw.githubusercontent.com/CSSEGISandData/COVID-19/master/csse_covid_19_data/csse_covid_19_daily_reports/'+ f'{diff_final}' +'.csv' \n",
    "print(url_Nine_day_old)"
   ]
  },
  {
   "cell_type": "code",
   "execution_count": 11,
   "metadata": {},
   "outputs": [],
   "source": [
    "#combo = pd.concat(z, diff_df, ignore_index=True)\n",
    "\n",
    "x['justone'] = less_diff_df['justone'].values\n",
    "x['justone'] = less_diff_df['justone'].to_numpy()\n",
    "x\n",
    "\n",
    "x['less_diff_df'] = x['date'] -  pd.to_timedelta(x['justone'], unit='d')\n",
    "less_diff_date = x['less_diff_df']\n",
    "#less_diff_date"
   ]
  },
  {
   "cell_type": "code",
   "execution_count": 12,
   "metadata": {},
   "outputs": [
    {
     "data": {
      "text/plain": [
       "Timestamp('2020-08-07 00:00:00')"
      ]
     },
     "execution_count": 12,
     "metadata": {},
     "output_type": "execute_result"
    }
   ],
   "source": [
    "index_no_2 = (x[x['date']==input_date].index.values)\n",
    "index_int_2 = index_no_2[0]\n",
    "index_int_2\n",
    "selected_diff_older = less_diff_date[index_int_2]\n",
    "selected_diff_older"
   ]
  },
  {
   "cell_type": "code",
   "execution_count": 13,
   "metadata": {},
   "outputs": [
    {
     "name": "stdout",
     "output_type": "stream",
     "text": [
      "08-07-2020\n"
     ]
    }
   ],
   "source": [
    "diff_format_2 = pd.to_datetime(selected_diff_older)\n",
    "diff_format_2\n",
    "diff_final_2 = diff_format_2.strftime('%m-%d-%Y')\n",
    "print(diff_final_2)"
   ]
  },
  {
   "cell_type": "code",
   "execution_count": 14,
   "metadata": {},
   "outputs": [
    {
     "name": "stdout",
     "output_type": "stream",
     "text": [
      "https://raw.githubusercontent.com/CSSEGISandData/COVID-19/master/csse_covid_19_data/csse_covid_19_daily_reports/08-07-2020.csv\n"
     ]
    }
   ],
   "source": [
    "url_One_day_old = 'https://raw.githubusercontent.com/CSSEGISandData/COVID-19/master/csse_covid_19_data/csse_covid_19_daily_reports/'+ f'{diff_final_2}' +'.csv' \n",
    "print(url_One_day_old)"
   ]
  },
  {
   "cell_type": "code",
   "execution_count": 15,
   "metadata": {},
   "outputs": [],
   "source": [
    "#data_new = ('08-13-2020.csv')\n",
    "#data_old = ('08-06-2020.csv')"
   ]
  },
  {
   "cell_type": "code",
   "execution_count": 16,
   "metadata": {},
   "outputs": [
    {
     "data": {
      "text/html": [
       "<div>\n",
       "<style scoped>\n",
       "    .dataframe tbody tr th:only-of-type {\n",
       "        vertical-align: middle;\n",
       "    }\n",
       "\n",
       "    .dataframe tbody tr th {\n",
       "        vertical-align: top;\n",
       "    }\n",
       "\n",
       "    .dataframe thead th {\n",
       "        text-align: right;\n",
       "    }\n",
       "</style>\n",
       "<table border=\"1\" class=\"dataframe\">\n",
       "  <thead>\n",
       "    <tr style=\"text-align: right;\">\n",
       "      <th></th>\n",
       "      <th>FIPS</th>\n",
       "      <th>Admin2</th>\n",
       "      <th>Province_State</th>\n",
       "      <th>Country_Region</th>\n",
       "      <th>Last_Update</th>\n",
       "      <th>Lat</th>\n",
       "      <th>Long_</th>\n",
       "      <th>Confirmed</th>\n",
       "      <th>Deaths</th>\n",
       "      <th>Recovered</th>\n",
       "      <th>Active</th>\n",
       "      <th>Combined_Key</th>\n",
       "      <th>Incidence_Rate</th>\n",
       "      <th>Case-Fatality_Ratio</th>\n",
       "    </tr>\n",
       "  </thead>\n",
       "  <tbody>\n",
       "    <tr>\n",
       "      <th>0</th>\n",
       "      <td>45001.0</td>\n",
       "      <td>Abbeville</td>\n",
       "      <td>South Carolina</td>\n",
       "      <td>US</td>\n",
       "      <td>2020-08-08 04:34:53</td>\n",
       "      <td>34.223334</td>\n",
       "      <td>-82.461707</td>\n",
       "      <td>321</td>\n",
       "      <td>8</td>\n",
       "      <td>0</td>\n",
       "      <td>313.0</td>\n",
       "      <td>Abbeville, South Carolina, US</td>\n",
       "      <td>1308.761773</td>\n",
       "      <td>2.492212</td>\n",
       "    </tr>\n",
       "    <tr>\n",
       "      <th>1</th>\n",
       "      <td>22001.0</td>\n",
       "      <td>Acadia</td>\n",
       "      <td>Louisiana</td>\n",
       "      <td>US</td>\n",
       "      <td>2020-08-08 04:34:53</td>\n",
       "      <td>30.295065</td>\n",
       "      <td>-92.414197</td>\n",
       "      <td>2570</td>\n",
       "      <td>79</td>\n",
       "      <td>0</td>\n",
       "      <td>2491.0</td>\n",
       "      <td>Acadia, Louisiana, US</td>\n",
       "      <td>4142.154888</td>\n",
       "      <td>3.073930</td>\n",
       "    </tr>\n",
       "    <tr>\n",
       "      <th>2</th>\n",
       "      <td>51001.0</td>\n",
       "      <td>Accomack</td>\n",
       "      <td>Virginia</td>\n",
       "      <td>US</td>\n",
       "      <td>2020-08-08 04:34:53</td>\n",
       "      <td>37.767072</td>\n",
       "      <td>-75.632346</td>\n",
       "      <td>1087</td>\n",
       "      <td>16</td>\n",
       "      <td>0</td>\n",
       "      <td>1071.0</td>\n",
       "      <td>Accomack, Virginia, US</td>\n",
       "      <td>3363.658869</td>\n",
       "      <td>1.471941</td>\n",
       "    </tr>\n",
       "    <tr>\n",
       "      <th>3</th>\n",
       "      <td>16001.0</td>\n",
       "      <td>Ada</td>\n",
       "      <td>Idaho</td>\n",
       "      <td>US</td>\n",
       "      <td>2020-08-08 04:34:53</td>\n",
       "      <td>43.452658</td>\n",
       "      <td>-116.241552</td>\n",
       "      <td>8720</td>\n",
       "      <td>76</td>\n",
       "      <td>0</td>\n",
       "      <td>8644.0</td>\n",
       "      <td>Ada, Idaho, US</td>\n",
       "      <td>1810.680106</td>\n",
       "      <td>0.871560</td>\n",
       "    </tr>\n",
       "    <tr>\n",
       "      <th>4</th>\n",
       "      <td>19001.0</td>\n",
       "      <td>Adair</td>\n",
       "      <td>Iowa</td>\n",
       "      <td>US</td>\n",
       "      <td>2020-08-08 04:34:53</td>\n",
       "      <td>41.330756</td>\n",
       "      <td>-94.471059</td>\n",
       "      <td>28</td>\n",
       "      <td>0</td>\n",
       "      <td>0</td>\n",
       "      <td>28.0</td>\n",
       "      <td>Adair, Iowa, US</td>\n",
       "      <td>391.498881</td>\n",
       "      <td>0.000000</td>\n",
       "    </tr>\n",
       "  </tbody>\n",
       "</table>\n",
       "</div>"
      ],
      "text/plain": [
       "      FIPS     Admin2  Province_State Country_Region          Last_Update  \\\n",
       "0  45001.0  Abbeville  South Carolina             US  2020-08-08 04:34:53   \n",
       "1  22001.0     Acadia       Louisiana             US  2020-08-08 04:34:53   \n",
       "2  51001.0   Accomack        Virginia             US  2020-08-08 04:34:53   \n",
       "3  16001.0        Ada           Idaho             US  2020-08-08 04:34:53   \n",
       "4  19001.0      Adair            Iowa             US  2020-08-08 04:34:53   \n",
       "\n",
       "         Lat       Long_  Confirmed  Deaths  Recovered  Active  \\\n",
       "0  34.223334  -82.461707        321       8          0   313.0   \n",
       "1  30.295065  -92.414197       2570      79          0  2491.0   \n",
       "2  37.767072  -75.632346       1087      16          0  1071.0   \n",
       "3  43.452658 -116.241552       8720      76          0  8644.0   \n",
       "4  41.330756  -94.471059         28       0          0    28.0   \n",
       "\n",
       "                    Combined_Key  Incidence_Rate  Case-Fatality_Ratio  \n",
       "0  Abbeville, South Carolina, US     1308.761773             2.492212  \n",
       "1          Acadia, Louisiana, US     4142.154888             3.073930  \n",
       "2         Accomack, Virginia, US     3363.658869             1.471941  \n",
       "3                 Ada, Idaho, US     1810.680106             0.871560  \n",
       "4                Adair, Iowa, US      391.498881             0.000000  "
      ]
     },
     "execution_count": 16,
     "metadata": {},
     "output_type": "execute_result"
    }
   ],
   "source": [
    "new_df = pd.read_csv(url_new)\n",
    "Nine_day_old_df = pd.read_csv(url_Nine_day_old)\n",
    "One_day_old_df = pd.read_csv(url_One_day_old)\n",
    "\n",
    "\n",
    "new_df.head()\n",
    "Nine_day_old_df.head()\n",
    "One_day_old_df.head()"
   ]
  },
  {
   "cell_type": "code",
   "execution_count": 17,
   "metadata": {},
   "outputs": [
    {
     "data": {
      "text/html": [
       "<div>\n",
       "<style scoped>\n",
       "    .dataframe tbody tr th:only-of-type {\n",
       "        vertical-align: middle;\n",
       "    }\n",
       "\n",
       "    .dataframe tbody tr th {\n",
       "        vertical-align: top;\n",
       "    }\n",
       "\n",
       "    .dataframe thead th {\n",
       "        text-align: right;\n",
       "    }\n",
       "</style>\n",
       "<table border=\"1\" class=\"dataframe\">\n",
       "  <thead>\n",
       "    <tr style=\"text-align: right;\">\n",
       "      <th></th>\n",
       "      <th>Country_Region</th>\n",
       "      <th>Last_Update</th>\n",
       "      <th>Confirmed</th>\n",
       "      <th>Deaths</th>\n",
       "      <th>Recovered</th>\n",
       "      <th>Active</th>\n",
       "      <th>Incidence_Rate</th>\n",
       "      <th>Case-Fatality_Ratio</th>\n",
       "    </tr>\n",
       "  </thead>\n",
       "  <tbody>\n",
       "    <tr>\n",
       "      <th>0</th>\n",
       "      <td>US</td>\n",
       "      <td>2020-08-09 04:34:54</td>\n",
       "      <td>325</td>\n",
       "      <td>8</td>\n",
       "      <td>0</td>\n",
       "      <td>317.0</td>\n",
       "      <td>1325.070331</td>\n",
       "      <td>2.461538</td>\n",
       "    </tr>\n",
       "    <tr>\n",
       "      <th>1</th>\n",
       "      <td>US</td>\n",
       "      <td>2020-08-09 04:34:54</td>\n",
       "      <td>2570</td>\n",
       "      <td>79</td>\n",
       "      <td>0</td>\n",
       "      <td>2491.0</td>\n",
       "      <td>4142.154888</td>\n",
       "      <td>3.073930</td>\n",
       "    </tr>\n",
       "    <tr>\n",
       "      <th>2</th>\n",
       "      <td>US</td>\n",
       "      <td>2020-08-09 04:34:54</td>\n",
       "      <td>1095</td>\n",
       "      <td>16</td>\n",
       "      <td>0</td>\n",
       "      <td>1079.0</td>\n",
       "      <td>3388.414408</td>\n",
       "      <td>1.461187</td>\n",
       "    </tr>\n",
       "    <tr>\n",
       "      <th>3</th>\n",
       "      <td>US</td>\n",
       "      <td>2020-08-09 04:34:54</td>\n",
       "      <td>8932</td>\n",
       "      <td>81</td>\n",
       "      <td>0</td>\n",
       "      <td>8851.0</td>\n",
       "      <td>1854.701227</td>\n",
       "      <td>0.906852</td>\n",
       "    </tr>\n",
       "    <tr>\n",
       "      <th>4</th>\n",
       "      <td>US</td>\n",
       "      <td>2020-08-09 04:34:54</td>\n",
       "      <td>29</td>\n",
       "      <td>0</td>\n",
       "      <td>0</td>\n",
       "      <td>29.0</td>\n",
       "      <td>405.480984</td>\n",
       "      <td>0.000000</td>\n",
       "    </tr>\n",
       "  </tbody>\n",
       "</table>\n",
       "</div>"
      ],
      "text/plain": [
       "  Country_Region          Last_Update  Confirmed  Deaths  Recovered  Active  \\\n",
       "0             US  2020-08-09 04:34:54        325       8          0   317.0   \n",
       "1             US  2020-08-09 04:34:54       2570      79          0  2491.0   \n",
       "2             US  2020-08-09 04:34:54       1095      16          0  1079.0   \n",
       "3             US  2020-08-09 04:34:54       8932      81          0  8851.0   \n",
       "4             US  2020-08-09 04:34:54         29       0          0    29.0   \n",
       "\n",
       "   Incidence_Rate  Case-Fatality_Ratio  \n",
       "0     1325.070331             2.461538  \n",
       "1     4142.154888             3.073930  \n",
       "2     3388.414408             1.461187  \n",
       "3     1854.701227             0.906852  \n",
       "4      405.480984             0.000000  "
      ]
     },
     "execution_count": 17,
     "metadata": {},
     "output_type": "execute_result"
    }
   ],
   "source": [
    "new_clean_df = new_df.drop(columns=['Province_State', 'Lat', 'Long_', 'Admin2', 'FIPS', 'Combined_Key'])\n",
    "Nine_day_old_clean_df = Nine_day_old_df.drop(columns=['Province_State', 'Lat', 'Long_', 'Admin2', 'FIPS', 'Combined_Key'])\n",
    "One_day_old_clean_df = One_day_old_df.drop(columns=['Province_State', 'Lat', 'Long_', 'Admin2', 'FIPS', 'Combined_Key'])\n",
    "\n",
    "new_clean_df.head()"
   ]
  },
  {
   "cell_type": "code",
   "execution_count": 18,
   "metadata": {},
   "outputs": [
    {
     "data": {
      "text/html": [
       "<div>\n",
       "<style scoped>\n",
       "    .dataframe tbody tr th:only-of-type {\n",
       "        vertical-align: middle;\n",
       "    }\n",
       "\n",
       "    .dataframe tbody tr th {\n",
       "        vertical-align: top;\n",
       "    }\n",
       "\n",
       "    .dataframe thead th {\n",
       "        text-align: right;\n",
       "    }\n",
       "</style>\n",
       "<table border=\"1\" class=\"dataframe\">\n",
       "  <thead>\n",
       "    <tr style=\"text-align: right;\">\n",
       "      <th></th>\n",
       "      <th>Country_Region</th>\n",
       "      <th>Last_Update</th>\n",
       "      <th>Confirmed</th>\n",
       "      <th>Deaths</th>\n",
       "      <th>Recovered</th>\n",
       "      <th>Active</th>\n",
       "      <th>Incidence_Rate</th>\n",
       "      <th>Case-Fatality_Ratio</th>\n",
       "    </tr>\n",
       "  </thead>\n",
       "  <tbody>\n",
       "    <tr>\n",
       "      <th>0</th>\n",
       "      <td>US</td>\n",
       "      <td>2020-07-31 04:35:18</td>\n",
       "      <td>285</td>\n",
       "      <td>7</td>\n",
       "      <td>0</td>\n",
       "      <td>278.0</td>\n",
       "      <td>1161.984751</td>\n",
       "      <td>2.456140</td>\n",
       "    </tr>\n",
       "    <tr>\n",
       "      <th>1</th>\n",
       "      <td>US</td>\n",
       "      <td>2020-07-31 04:35:18</td>\n",
       "      <td>2299</td>\n",
       "      <td>71</td>\n",
       "      <td>0</td>\n",
       "      <td>2228.0</td>\n",
       "      <td>3705.375131</td>\n",
       "      <td>3.088299</td>\n",
       "    </tr>\n",
       "    <tr>\n",
       "      <th>2</th>\n",
       "      <td>US</td>\n",
       "      <td>2020-07-31 04:35:18</td>\n",
       "      <td>1074</td>\n",
       "      <td>15</td>\n",
       "      <td>0</td>\n",
       "      <td>1059.0</td>\n",
       "      <td>3323.431118</td>\n",
       "      <td>1.396648</td>\n",
       "    </tr>\n",
       "    <tr>\n",
       "      <th>3</th>\n",
       "      <td>US</td>\n",
       "      <td>2020-07-31 04:35:18</td>\n",
       "      <td>7681</td>\n",
       "      <td>55</td>\n",
       "      <td>0</td>\n",
       "      <td>7626.0</td>\n",
       "      <td>1594.935079</td>\n",
       "      <td>0.716053</td>\n",
       "    </tr>\n",
       "    <tr>\n",
       "      <th>4</th>\n",
       "      <td>US</td>\n",
       "      <td>2020-07-31 04:35:18</td>\n",
       "      <td>20</td>\n",
       "      <td>0</td>\n",
       "      <td>0</td>\n",
       "      <td>20.0</td>\n",
       "      <td>279.642058</td>\n",
       "      <td>0.000000</td>\n",
       "    </tr>\n",
       "  </tbody>\n",
       "</table>\n",
       "</div>"
      ],
      "text/plain": [
       "  Country_Region          Last_Update  Confirmed  Deaths  Recovered  Active  \\\n",
       "0             US  2020-07-31 04:35:18        285       7          0   278.0   \n",
       "1             US  2020-07-31 04:35:18       2299      71          0  2228.0   \n",
       "2             US  2020-07-31 04:35:18       1074      15          0  1059.0   \n",
       "3             US  2020-07-31 04:35:18       7681      55          0  7626.0   \n",
       "4             US  2020-07-31 04:35:18         20       0          0    20.0   \n",
       "\n",
       "   Incidence_Rate  Case-Fatality_Ratio  \n",
       "0     1161.984751             2.456140  \n",
       "1     3705.375131             3.088299  \n",
       "2     3323.431118             1.396648  \n",
       "3     1594.935079             0.716053  \n",
       "4      279.642058             0.000000  "
      ]
     },
     "execution_count": 18,
     "metadata": {},
     "output_type": "execute_result"
    }
   ],
   "source": [
    "Nine_day_old_clean_df.head()"
   ]
  },
  {
   "cell_type": "code",
   "execution_count": 19,
   "metadata": {},
   "outputs": [
    {
     "data": {
      "text/html": [
       "<div>\n",
       "<style scoped>\n",
       "    .dataframe tbody tr th:only-of-type {\n",
       "        vertical-align: middle;\n",
       "    }\n",
       "\n",
       "    .dataframe tbody tr th {\n",
       "        vertical-align: top;\n",
       "    }\n",
       "\n",
       "    .dataframe thead th {\n",
       "        text-align: right;\n",
       "    }\n",
       "</style>\n",
       "<table border=\"1\" class=\"dataframe\">\n",
       "  <thead>\n",
       "    <tr style=\"text-align: right;\">\n",
       "      <th></th>\n",
       "      <th>Country_Region</th>\n",
       "      <th>Last_Update</th>\n",
       "      <th>Confirmed</th>\n",
       "      <th>Deaths</th>\n",
       "      <th>Recovered</th>\n",
       "      <th>Active</th>\n",
       "      <th>Incidence_Rate</th>\n",
       "      <th>Case-Fatality_Ratio</th>\n",
       "    </tr>\n",
       "  </thead>\n",
       "  <tbody>\n",
       "    <tr>\n",
       "      <th>0</th>\n",
       "      <td>US</td>\n",
       "      <td>2020-08-08 04:34:53</td>\n",
       "      <td>321</td>\n",
       "      <td>8</td>\n",
       "      <td>0</td>\n",
       "      <td>313.0</td>\n",
       "      <td>1308.761773</td>\n",
       "      <td>2.492212</td>\n",
       "    </tr>\n",
       "    <tr>\n",
       "      <th>1</th>\n",
       "      <td>US</td>\n",
       "      <td>2020-08-08 04:34:53</td>\n",
       "      <td>2570</td>\n",
       "      <td>79</td>\n",
       "      <td>0</td>\n",
       "      <td>2491.0</td>\n",
       "      <td>4142.154888</td>\n",
       "      <td>3.073930</td>\n",
       "    </tr>\n",
       "    <tr>\n",
       "      <th>2</th>\n",
       "      <td>US</td>\n",
       "      <td>2020-08-08 04:34:53</td>\n",
       "      <td>1087</td>\n",
       "      <td>16</td>\n",
       "      <td>0</td>\n",
       "      <td>1071.0</td>\n",
       "      <td>3363.658869</td>\n",
       "      <td>1.471941</td>\n",
       "    </tr>\n",
       "    <tr>\n",
       "      <th>3</th>\n",
       "      <td>US</td>\n",
       "      <td>2020-08-08 04:34:53</td>\n",
       "      <td>8720</td>\n",
       "      <td>76</td>\n",
       "      <td>0</td>\n",
       "      <td>8644.0</td>\n",
       "      <td>1810.680106</td>\n",
       "      <td>0.871560</td>\n",
       "    </tr>\n",
       "    <tr>\n",
       "      <th>4</th>\n",
       "      <td>US</td>\n",
       "      <td>2020-08-08 04:34:53</td>\n",
       "      <td>28</td>\n",
       "      <td>0</td>\n",
       "      <td>0</td>\n",
       "      <td>28.0</td>\n",
       "      <td>391.498881</td>\n",
       "      <td>0.000000</td>\n",
       "    </tr>\n",
       "    <tr>\n",
       "      <th>...</th>\n",
       "      <td>...</td>\n",
       "      <td>...</td>\n",
       "      <td>...</td>\n",
       "      <td>...</td>\n",
       "      <td>...</td>\n",
       "      <td>...</td>\n",
       "      <td>...</td>\n",
       "      <td>...</td>\n",
       "    </tr>\n",
       "    <tr>\n",
       "      <th>3935</th>\n",
       "      <td>US</td>\n",
       "      <td>2020-08-04 12:34:49</td>\n",
       "      <td>2</td>\n",
       "      <td>0</td>\n",
       "      <td>0</td>\n",
       "      <td>2.0</td>\n",
       "      <td>NaN</td>\n",
       "      <td>0.000000</td>\n",
       "    </tr>\n",
       "    <tr>\n",
       "      <th>3936</th>\n",
       "      <td>Colombia</td>\n",
       "      <td>2020-07-17 22:34:48</td>\n",
       "      <td>0</td>\n",
       "      <td>0</td>\n",
       "      <td>0</td>\n",
       "      <td>0.0</td>\n",
       "      <td>NaN</td>\n",
       "      <td>NaN</td>\n",
       "    </tr>\n",
       "    <tr>\n",
       "      <th>3937</th>\n",
       "      <td>Canada</td>\n",
       "      <td>2020-07-13 12:34:33</td>\n",
       "      <td>13</td>\n",
       "      <td>0</td>\n",
       "      <td>13</td>\n",
       "      <td>0.0</td>\n",
       "      <td>NaN</td>\n",
       "      <td>0.000000</td>\n",
       "    </tr>\n",
       "    <tr>\n",
       "      <th>3938</th>\n",
       "      <td>US</td>\n",
       "      <td>2020-07-10 02:34:22</td>\n",
       "      <td>1</td>\n",
       "      <td>0</td>\n",
       "      <td>0</td>\n",
       "      <td>1.0</td>\n",
       "      <td>26.055237</td>\n",
       "      <td>0.000000</td>\n",
       "    </tr>\n",
       "    <tr>\n",
       "      <th>3939</th>\n",
       "      <td>US</td>\n",
       "      <td>2020-07-06 19:33:59</td>\n",
       "      <td>0</td>\n",
       "      <td>0</td>\n",
       "      <td>0</td>\n",
       "      <td>0.0</td>\n",
       "      <td>0.000000</td>\n",
       "      <td>NaN</td>\n",
       "    </tr>\n",
       "  </tbody>\n",
       "</table>\n",
       "<p>3940 rows × 8 columns</p>\n",
       "</div>"
      ],
      "text/plain": [
       "     Country_Region          Last_Update  Confirmed  Deaths  Recovered  \\\n",
       "0                US  2020-08-08 04:34:53        321       8          0   \n",
       "1                US  2020-08-08 04:34:53       2570      79          0   \n",
       "2                US  2020-08-08 04:34:53       1087      16          0   \n",
       "3                US  2020-08-08 04:34:53       8720      76          0   \n",
       "4                US  2020-08-08 04:34:53         28       0          0   \n",
       "...             ...                  ...        ...     ...        ...   \n",
       "3935             US  2020-08-04 12:34:49          2       0          0   \n",
       "3936       Colombia  2020-07-17 22:34:48          0       0          0   \n",
       "3937         Canada  2020-07-13 12:34:33         13       0         13   \n",
       "3938             US  2020-07-10 02:34:22          1       0          0   \n",
       "3939             US  2020-07-06 19:33:59          0       0          0   \n",
       "\n",
       "      Active  Incidence_Rate  Case-Fatality_Ratio  \n",
       "0      313.0     1308.761773             2.492212  \n",
       "1     2491.0     4142.154888             3.073930  \n",
       "2     1071.0     3363.658869             1.471941  \n",
       "3     8644.0     1810.680106             0.871560  \n",
       "4       28.0      391.498881             0.000000  \n",
       "...      ...             ...                  ...  \n",
       "3935     2.0             NaN             0.000000  \n",
       "3936     0.0             NaN                  NaN  \n",
       "3937     0.0             NaN             0.000000  \n",
       "3938     1.0       26.055237             0.000000  \n",
       "3939     0.0        0.000000                  NaN  \n",
       "\n",
       "[3940 rows x 8 columns]"
      ]
     },
     "execution_count": 19,
     "metadata": {},
     "output_type": "execute_result"
    }
   ],
   "source": [
    "One_day_old_clean_df"
   ]
  },
  {
   "cell_type": "code",
   "execution_count": null,
   "metadata": {},
   "outputs": [],
   "source": []
  },
  {
   "cell_type": "code",
   "execution_count": 20,
   "metadata": {},
   "outputs": [
    {
     "name": "stdout",
     "output_type": "stream",
     "text": [
      "What it implies is that on a given day, of the cases which were first reported 9 days previously 7% of those cases would have either recovered or passed away. After 16 days therefore 49% of cases would have recovered or passed away and after 23 days 98% of cases would have recovered or passsed away.This formula is only being used to predict the number of recoveries from the time that JHU data is not available. We can compare the results of this formula to the existing data from JHU to show the level of fit. This can be seen in the following 2 graphs\n"
     ]
    }
   ],
   "source": [
    "print('What it implies is that on a given day, of the cases which were first reported 9 days previously 7% of those cases would have either recovered or passed away. After 16 days therefore 49% of cases would have recovered or passed away and after 23 days 98% of cases would have recovered or passsed away.This formula is only being used to predict the number of recoveries from the time that JHU data is not available. We can compare the results of this formula to the existing data from JHU to show the level of fit. This can be seen in the following 2 graphs')"
   ]
  },
  {
   "cell_type": "code",
   "execution_count": 21,
   "metadata": {},
   "outputs": [
    {
     "data": {
      "text/html": [
       "<div>\n",
       "<style scoped>\n",
       "    .dataframe tbody tr th:only-of-type {\n",
       "        vertical-align: middle;\n",
       "    }\n",
       "\n",
       "    .dataframe tbody tr th {\n",
       "        vertical-align: top;\n",
       "    }\n",
       "\n",
       "    .dataframe thead th {\n",
       "        text-align: right;\n",
       "    }\n",
       "</style>\n",
       "<table border=\"1\" class=\"dataframe\">\n",
       "  <thead>\n",
       "    <tr style=\"text-align: right;\">\n",
       "      <th></th>\n",
       "      <th>Confirmed</th>\n",
       "      <th>Deaths</th>\n",
       "      <th>Est. Recoveries</th>\n",
       "      <th>Outstanding</th>\n",
       "    </tr>\n",
       "  </thead>\n",
       "  <tbody>\n",
       "    <tr>\n",
       "      <th>0</th>\n",
       "      <td>19637506</td>\n",
       "      <td>726781</td>\n",
       "      <td>11939109</td>\n",
       "      <td>6971616</td>\n",
       "    </tr>\n",
       "  </tbody>\n",
       "</table>\n",
       "</div>"
      ],
      "text/plain": [
       "   Confirmed  Deaths  Est. Recoveries  Outstanding\n",
       "0   19637506  726781         11939109      6971616"
      ]
     },
     "execution_count": 21,
     "metadata": {},
     "output_type": "execute_result"
    }
   ],
   "source": [
    "#hide_input\n",
    "totalConfirmed_new = new_clean_df['Confirmed'].sum(axis=0)\n",
    "totalDeaths_new = new_clean_df['Deaths'].sum(axis=0)\n",
    "totalRecovered_new = pd.to_numeric(new_clean_df['Recovered'].sum(axis=0), downcast='integer')\n",
    "frame_new = {'Confirmed': totalConfirmed_new, 'Deaths': totalDeaths_new, 'Est. Recoveries': totalRecovered_new, 'Outstanding':totalConfirmed_new-totalDeaths_new-totalRecovered_new}\n",
    "result_new = pd.DataFrame(frame_new,index=[0])\n",
    "#result = result.set_index(pd.to_datetime(result.index)).sort_index()\n",
    "result_new\n",
    "\n",
    "#profile = ProfileReport(result_new, title=\"Pandas Profiling Report_today\", explorative=True)\n",
    "#profile.to_file(\"latest_data.html\")"
   ]
  },
  {
   "cell_type": "code",
   "execution_count": 22,
   "metadata": {},
   "outputs": [
    {
     "data": {
      "text/html": [
       "<div>\n",
       "<style scoped>\n",
       "    .dataframe tbody tr th:only-of-type {\n",
       "        vertical-align: middle;\n",
       "    }\n",
       "\n",
       "    .dataframe tbody tr th {\n",
       "        vertical-align: top;\n",
       "    }\n",
       "\n",
       "    .dataframe thead th {\n",
       "        text-align: right;\n",
       "    }\n",
       "</style>\n",
       "<table border=\"1\" class=\"dataframe\">\n",
       "  <thead>\n",
       "    <tr style=\"text-align: right;\">\n",
       "      <th></th>\n",
       "      <th>Confirmed</th>\n",
       "      <th>Deaths</th>\n",
       "      <th>Est. Recoveries</th>\n",
       "      <th>Outstanding</th>\n",
       "    </tr>\n",
       "  </thead>\n",
       "  <tbody>\n",
       "    <tr>\n",
       "      <th>0</th>\n",
       "      <td>17309805</td>\n",
       "      <td>673194</td>\n",
       "      <td>10170650</td>\n",
       "      <td>6465961</td>\n",
       "    </tr>\n",
       "  </tbody>\n",
       "</table>\n",
       "</div>"
      ],
      "text/plain": [
       "   Confirmed  Deaths  Est. Recoveries  Outstanding\n",
       "0   17309805  673194         10170650      6465961"
      ]
     },
     "execution_count": 22,
     "metadata": {},
     "output_type": "execute_result"
    }
   ],
   "source": [
    "#hide_input\n",
    "Nine_days_totalConfirmed = Nine_day_old_clean_df['Confirmed'].sum(axis=0)\n",
    "Nine_days_totalDeaths = Nine_day_old_clean_df['Deaths'].sum(axis=0)\n",
    "Nine_days_totalRecovered = pd.to_numeric(Nine_day_old_clean_df['Recovered'].sum(axis=0), downcast='integer')\n",
    "Nine_days_frame = {'Confirmed': Nine_days_totalConfirmed, 'Deaths': Nine_days_totalDeaths, 'Est. Recoveries': Nine_days_totalRecovered, 'Outstanding':Nine_days_totalConfirmed-Nine_days_totalDeaths-Nine_days_totalRecovered}\n",
    "Nine_days_result = pd.DataFrame(Nine_days_frame,index=[0])\n",
    "#result = result.set_index(pd.to_datetime(result.index)).sort_index()\n",
    "Nine_days_result"
   ]
  },
  {
   "cell_type": "code",
   "execution_count": 23,
   "metadata": {},
   "outputs": [
    {
     "data": {
      "text/html": [
       "<div>\n",
       "<style scoped>\n",
       "    .dataframe tbody tr th:only-of-type {\n",
       "        vertical-align: middle;\n",
       "    }\n",
       "\n",
       "    .dataframe tbody tr th {\n",
       "        vertical-align: top;\n",
       "    }\n",
       "\n",
       "    .dataframe thead th {\n",
       "        text-align: right;\n",
       "    }\n",
       "</style>\n",
       "<table border=\"1\" class=\"dataframe\">\n",
       "  <thead>\n",
       "    <tr style=\"text-align: right;\">\n",
       "      <th></th>\n",
       "      <th>Confirmed</th>\n",
       "      <th>Deaths</th>\n",
       "      <th>Est. Recoveries</th>\n",
       "      <th>Outstanding</th>\n",
       "    </tr>\n",
       "  </thead>\n",
       "  <tbody>\n",
       "    <tr>\n",
       "      <th>0</th>\n",
       "      <td>19378036</td>\n",
       "      <td>721324</td>\n",
       "      <td>11737927</td>\n",
       "      <td>6918785</td>\n",
       "    </tr>\n",
       "  </tbody>\n",
       "</table>\n",
       "</div>"
      ],
      "text/plain": [
       "   Confirmed  Deaths  Est. Recoveries  Outstanding\n",
       "0   19378036  721324         11737927      6918785"
      ]
     },
     "execution_count": 23,
     "metadata": {},
     "output_type": "execute_result"
    }
   ],
   "source": [
    "#hide_input\n",
    "One_day_totalConfirmed = One_day_old_clean_df['Confirmed'].sum(axis=0)\n",
    "One_day_totalDeaths = One_day_old_clean_df['Deaths'].sum(axis=0)\n",
    "One_day_totalRecovered = pd.to_numeric(One_day_old_clean_df['Recovered'].sum(axis=0), downcast='integer')\n",
    "One_day_frame = {'Confirmed': One_day_totalConfirmed, 'Deaths': One_day_totalDeaths, 'Est. Recoveries': One_day_totalRecovered, 'Outstanding':One_day_totalConfirmed-One_day_totalDeaths-One_day_totalRecovered}\n",
    "One_day_result = pd.DataFrame(One_day_frame,index=[0])\n",
    "#result = result.set_index(pd.to_datetime(result.index)).sort_index()\n",
    "One_day_result"
   ]
  },
  {
   "cell_type": "code",
   "execution_count": 24,
   "metadata": {},
   "outputs": [
    {
     "name": "stdout",
     "output_type": "stream",
     "text": [
      "Rn=Rn−1+(Cn−9−Rn−1)∗0.07\n"
     ]
    }
   ],
   "source": [
    "print('Rn=Rn−1+(Cn−9−Rn−1)∗0.07')"
   ]
  },
  {
   "cell_type": "code",
   "execution_count": 25,
   "metadata": {},
   "outputs": [
    {
     "name": "stdout",
     "output_type": "stream",
     "text": [
      "12127958.0\n",
      "1.5817679527006578\n"
     ]
    }
   ],
   "source": [
    "#calculate \n",
    "Rn = One_day_totalRecovered + (Nine_days_totalConfirmed - One_day_totalRecovered)*0.07\n",
    "Rn_absolute=Rn.round(0)\n",
    "print(Rn_absolute)\n",
    "frameG = {\"Predicted_Recoveries\":Rn_absolute,'Recoveries': totalRecovered_new}\n",
    "resultG = pd.DataFrame(frameG, index =[0])\n",
    "#resultG = resultG.set_index(pd.to_datetime(resultG.index)).sort_index()\n",
    "resultG\n",
    "Difference = ((Rn_absolute - totalRecovered_new)/totalRecovered_new)*100\n",
    "print(Difference)\n",
    "#profile = ProfileReport(resultG, title=\"Pandas Profiling Report\", explorative=True)\n",
    "#profile.to_file(\"1_your_report.html\")"
   ]
  },
  {
   "cell_type": "code",
   "execution_count": 26,
   "metadata": {},
   "outputs": [],
   "source": [
    "def get_frame(name):\n",
    "    url = ('https://raw.githubusercontent.com/CSSEGISandData/COVID-19/master/csse_covid_19_data/'\n",
    "        f'csse_covid_19_time_series/time_series_19-covid-{name}.csv')\n",
    "    df = pd.read_csv(url)\n",
    "    return df\n",
    "\n",
    "def get_frameNew(name):\n",
    "    url = ('https://raw.githubusercontent.com/CSSEGISandData/COVID-19/master/csse_covid_19_data/'\n",
    "        f'csse_covid_19_time_series/time_series_covid19_{name}_global.csv')\n",
    "    df = pd.read_csv(url)\n",
    "    return df\n",
    "\n",
    "def get_frameArchived(name):\n",
    "    url = (f'https://raw.githubusercontent.com/CSSEGISandData/COVID-19/master/archived_data/archived_time_series/time_series_19-covid-{name}_archived_0325.csv')\n",
    "    df = pd.read_csv(url)\n",
    "    return df\n",
    "\n",
    "def flatten(df):\n",
    "    array = []\n",
    "    d = df.to_dict()\n",
    "    for v in d.items():\n",
    "        day = v[0]\n",
    "        for c in v[1].items():\n",
    "            country = c[0]\n",
    "            value = c[1]\n",
    "            array.append({\"key\":country,\"value\":value,\"date\":day})\n",
    "    return array\n",
    "\n",
    "def combine(cx,dx,rx):\n",
    "    all = []\n",
    "    for i, v in enumerate(cx):\n",
    "        v['confirmed'] = v['value']\n",
    "        v['deaths'] = dx[i]['value']\n",
    "        v['recovered'] = rx[i]['value']\n",
    "        if cx[i]['key'] != rx[i]['key']:\n",
    "            print(\"error: country mismatch\")\n",
    "        if cx[i]['date'] != rx[i]['date']:\n",
    "            print(\"error: date mismatch\")\n",
    "        v['value'] = v['value'] - dx[i]['value'] - rx[i]['value']\n",
    "        if v['value'] < 0:\n",
    "            print(\"error:\", cx[i]['date'], cx[i]['key'], v['value'], v['confirmed'], dx[i]['value'], rx[i]['value'])\n",
    "            v['value'] = 0\n",
    "        #calculate CFR\n",
    "        fr = 0\n",
    "        if rx[i]['value'] + dx[i]['value'] + v['value'] > 0:\n",
    "            fr = dx[i]['value'] / (rx[i]['value'] + dx[i]['value'] + v['value'])\n",
    "        v['fatality'] = fr\n",
    "        all.append(v)\n",
    "    return all;\n",
    "\n",
    "def makeJSVar(array,varname):\n",
    "    json_string = json.dumps(array)\n",
    "    pre = \"var \" + varname + \" =\"\n",
    "    post = \";\" #\"; get\" + varname + \" = function (){ return \" + varname + \"};})();\"\n",
    "    jsVar = pre + json_string + post\n",
    "    return jsVar"
   ]
  },
  {
   "cell_type": "code",
   "execution_count": 27,
   "metadata": {},
   "outputs": [],
   "source": [
    "alternateNames = [\n",
    "    [[\"East Timor\"],\"Timor-Leste\"]\n",
    "    ,[[\"Taiwan*\"],\"Taiwan\"]\n",
    "    ,[[\"Korea, South\"],\"South Korea\"]\n",
    "    ,[[\"The Bahamas\",\"Bahamas, The\"],\"Bahamas\"]\n",
    "    ,[[\"The Gambia\",\"Gambia, The\"],\"Gambia\"]\n",
    "    ,[[\"Cape Verde\"],\"Cabo Verde\"]\n",
    "    ,[[\"French Guiana\",\"Guadeloupe\",\"Martinique\",\"Mayotte\",\"Reunion\"],\"France\"]\n",
    "    ,[[\"Guam\",\"Puerto Rico\"],\"US\"]\n",
    "    ,[[\"Greenland\"],\"Denmark\"]\n",
    "    ,[[\"Cruise Ship\",\"Diamond Princess\"],\"International Conveyance\"]\n",
    "    ,[[\"Guernsey\",\"Jersey\"],\"United Kingdom\"]\n",
    "    ,[[\"Republic of the Congo\"],\"Congo (Brazzaville)\"]\n",
    "]\n",
    "\n",
    "def replaceCountries(y):\n",
    "    for countries in alternateNames:\n",
    "        if y in countries[0]:\n",
    "            return countries[1]\n",
    "    return y\n",
    "    \n",
    "def extractGlobal(df):\n",
    "    df = df.drop(columns=['Province/State', 'Lat', 'Long'])\n",
    "    df['Country/Region'] = df['Country/Region'].apply(lambda x: replaceCountries(x))\n",
    "    df = df.groupby('Country/Region').sum()\n",
    "    return df\n",
    "\n",
    "abbreviations=[{\"name\":\"Alabama\",\"abbreviation\":\"AL\"},{\"name\":\"Alaska\",\"abbreviation\":\"AK\"},{\"name\":\"American Samoa\",\"abbreviation\":\"AS\"},{\"name\":\"Arizona\",\"abbreviation\":\"AZ\"},{\"name\":\"Arkansas\",\"abbreviation\":\"AR\"},{\"name\":\"California\",\"abbreviation\":\"CA\"},{\"name\":\"Colorado\",\"abbreviation\":\"CO\"},{\"name\":\"Connecticut\",\"abbreviation\":\"CT\"},{\"name\":\"Delaware\",\"abbreviation\":\"DE\"},{\"name\":\"District of Columbia\",\"abbreviation\":\"D.C.\"},{\"name\":\"Federated States Of Micronesia\",\"abbreviation\":\"FM\"},{\"name\":\"Florida\",\"abbreviation\":\"FL\"},{\"name\":\"Georgia\",\"abbreviation\":\"GA\"},{\"name\":\"Guam\",\"abbreviation\":\"GU\"},{\"name\":\"Hawaii\",\"abbreviation\":\"HI\"},{\"name\":\"Idaho\",\"abbreviation\":\"ID\"},{\"name\":\"Illinois\",\"abbreviation\":\"IL\"},{\"name\":\"Indiana\",\"abbreviation\":\"IN\"},{\"name\":\"Iowa\",\"abbreviation\":\"IA\"},{\"name\":\"Kansas\",\"abbreviation\":\"KS\"},{\"name\":\"Kentucky\",\"abbreviation\":\"KY\"},{\"name\":\"Louisiana\",\"abbreviation\":\"LA\"},{\"name\":\"Maine\",\"abbreviation\":\"ME\"},{\"name\":\"Marshall Islands\",\"abbreviation\":\"MH\"},{\"name\":\"Maryland\",\"abbreviation\":\"MD\"},{\"name\":\"Massachusetts\",\"abbreviation\":\"MA\"},{\"name\":\"Michigan\",\"abbreviation\":\"MI\"},{\"name\":\"Minnesota\",\"abbreviation\":\"MN\"},{\"name\":\"Mississippi\",\"abbreviation\":\"MS\"},{\"name\":\"Missouri\",\"abbreviation\":\"MO\"},{\"name\":\"Montana\",\"abbreviation\":\"MT\"},{\"name\":\"Nebraska\",\"abbreviation\":\"NE\"},{\"name\":\"Nevada\",\"abbreviation\":\"NV\"},{\"name\":\"New Hampshire\",\"abbreviation\":\"NH\"},{\"name\":\"New Jersey\",\"abbreviation\":\"NJ\"},{\"name\":\"New Mexico\",\"abbreviation\":\"NM\"},{\"name\":\"New York\",\"abbreviation\":\"NY\"},{\"name\":\"North Carolina\",\"abbreviation\":\"NC\"},{\"name\":\"North Dakota\",\"abbreviation\":\"ND\"},{\"name\":\"Northern Mariana Islands\",\"abbreviation\":\"MP\"},{\"name\":\"Ohio\",\"abbreviation\":\"OH\"},{\"name\":\"Oklahoma\",\"abbreviation\":\"OK\"},{\"name\":\"Oregon\",\"abbreviation\":\"OR\"},{\"name\":\"Palau\",\"abbreviation\":\"PW\"},{\"name\":\"Pennsylvania\",\"abbreviation\":\"PA\"},{\"name\":\"Puerto Rico\",\"abbreviation\":\"PR\"},{\"name\":\"Rhode Island\",\"abbreviation\":\"RI\"},{\"name\":\"South Carolina\",\"abbreviation\":\"SC\"},{\"name\":\"South Dakota\",\"abbreviation\":\"SD\"},{\"name\":\"Tennessee\",\"abbreviation\":\"TN\"},{\"name\":\"Texas\",\"abbreviation\":\"TX\"},{\"name\":\"Utah\",\"abbreviation\":\"UT\"},{\"name\":\"Vermont\",\"abbreviation\":\"VT\"},{\"name\":\"Virgin Islands\",\"abbreviation\":\"VI\"},{\"name\":\"Virginia\",\"abbreviation\":\"VA\"},{\"name\":\"Washington\",\"abbreviation\":\"WA\"},{\"name\":\"West Virginia\",\"abbreviation\":\"WV\"},{\"name\":\"Wisconsin\",\"abbreviation\":\"WI\"},{\"name\":\"Wyoming\",\"abbreviation\":\"WY\"}]\n",
    "\n",
    "def replaceStates(y):\n",
    "    print(y)\n",
    "    x = y.split(\",\")\n",
    "    if len(x) > 1:\n",
    "        for i, e in enumerate(abbreviations):\n",
    "            if e['abbreviation'].strip() == x[1].strip():\n",
    "                return e['name']\n",
    "    if y == \"United States Virgin Islands\":\n",
    "        return \"Virgin Islands\"\n",
    "    return y\n",
    "\n",
    "def extractUSA(df):\n",
    "    df = df[df['Country/Region'] == \"US\"]\n",
    "    df = df.drop(columns=['Country/Region', 'Lat', 'Long'])\n",
    "    df = df[~df['Province/State'].isin([\"US\"])]\n",
    "    df['Province/State'] = df['Province/State'].apply(lambda x: replaceStates(x))\n",
    "    df = df.groupby('Province/State').sum()\n",
    "    dates = df.columns[:32].values\n",
    "    df = df.drop(columns=dates)\n",
    "    return df\n",
    "\n",
    "def extractCanada(df):\n",
    "    df = df[df['Country/Region'] == \"Canada\"]\n",
    "    df = df.drop(columns=['Country/Region', 'Lat', 'Long'])\n",
    "    df = df.groupby('Province/State').sum()\n",
    "    dates = df.columns[:32].values\n",
    "    df = df.drop(columns=dates)\n",
    "    return df\n",
    "\n",
    "eu = ['Germany','Finland','Italy','Spain','Belgium','Switzerland','Austria','Greece','Norway','Romania','Estonia','San Marino','Belarus','Iceland','Lithuania','Ireland','Luxembourg','Monaco','Portugal','Andorra','Latvia','Ukraine' 'Hungary','Liechtenstein','Poland','Bosnia and Herzegovina','Slovenia','Serbia','Slovakia','Bulgaria','Albania','Holy See','France','Denmark','Czechia','Moldova','United Kingdom','Kosovo','Netherlands','Montenegro']\n",
    "\n",
    "def extractEurope(df):\n",
    "    df = df[df['Country/Region'].isin(eu)]\n",
    "    df = df.drop(columns=['Province/State', 'Lat', 'Long'])\n",
    "    df = df.groupby('Country/Region').sum()\n",
    "    datesEU = df.columns[:32].values\n",
    "    df = df.drop(columns=datesEU)\n",
    "    return df\n",
    "\n"
   ]
  },
  {
   "cell_type": "code",
   "execution_count": 28,
   "metadata": {},
   "outputs": [],
   "source": [
    "confirmedRaw = get_frameNew('confirmed')\n",
    "deathsRaw = get_frameNew('deaths')\n",
    "recoveredRaw = get_frameArchived('Recovered')"
   ]
  },
  {
   "cell_type": "code",
   "execution_count": 29,
   "metadata": {},
   "outputs": [],
   "source": [
    "def predictRecovered(data):\n",
    "    c = data[\"confirmed\"]\n",
    "    d = data['deaths']\n",
    "    r = data['recovered']\n",
    "    rp = data['recovered_predicted']\n",
    "    \n",
    "    ###Add columns\n",
    "    for col in c.columns:\n",
    "        if col not in rp.columns:\n",
    "            rp[col] = float('nan')\n",
    "            \n",
    "    #Replace column values\n",
    "    for i, row in rp.iterrows():\n",
    "        for j, v in enumerate(row.values):\n",
    "            if math.isnan(v):\n",
    "                date = pd.to_datetime(rp.columns[j])\n",
    "                try:\n",
    "                    dateMinus14 = date - pd.to_timedelta('9 days')\n",
    "                    colMinus14 = dateMinus14.strftime('%m-%d-%Y')\n",
    "                    lastr = rp.loc[i,rp.columns[j-1]]\n",
    "                    rp.loc[i,rp.columns[j]] = round(lastr + (c.loc[i,colMinus14]-lastr)*0.07)\n",
    "                except KeyError:\n",
    "                    pass\n",
    "            \n",
    "    return {\"confirmed\":c,\"deaths\":d,\"recovered_predicted\":rp,\"recovered\":r}\n",
    "\n",
    "def collect(extract):\n",
    "    c = extract(confirmedRaw)\n",
    "    r = extract(recoveredRaw)\n",
    "    d = extract(deathsRaw)\n",
    "    \n",
    "    notInC = [x for x in r.index if x not in c.index]\n",
    "    notInR = [x for x in c.index if x not in r.index]\n",
    "    \n",
    "    if len(notInC) > 0:\n",
    "        print(\"country mismatch- missing in new data:\",notInC)\n",
    "    \n",
    "    for country in notInR:\n",
    "        r.loc[country] = 0\n",
    "        r = r.sort_index();\n",
    "    \n",
    "    data = predictRecovered({\"confirmed\":c,\"deaths\":d,\"recovered_predicted\":r,\"recovered\":r})\n",
    "    return data"
   ]
  },
  {
   "cell_type": "code",
   "execution_count": 30,
   "metadata": {},
   "outputs": [],
   "source": [
    "globalData = collect(extractGlobal)"
   ]
  },
  {
   "cell_type": "code",
   "execution_count": 31,
   "metadata": {},
   "outputs": [],
   "source": [
    "def prepData(data,varname):\n",
    "    c = flatten(data[\"confirmed\"])\n",
    "    r = flatten(data[\"recovered_predicted\"])\n",
    "    d = flatten(data[\"deaths\"])\n",
    "    all = combine(c,d,r)\n",
    "    return makeJSVar(all,varname)"
   ]
  },
  {
   "cell_type": "code",
   "execution_count": 32,
   "metadata": {},
   "outputs": [],
   "source": [
    "getGlobalDataJson = prepData(globalData,\"globalData\")\n",
    "# getUsaDataJson = prepData(extractUSA,\"usaData\")\n",
    "# getCanadaDataJson = prepData(extractCanada,\"canadaData\")\n",
    "# getEuropeDataJson = prepData(extractEurope,\"europeData\")"
   ]
  },
  {
   "cell_type": "code",
   "execution_count": 33,
   "metadata": {},
   "outputs": [],
   "source": [
    "countries = [\"China\",\"Italy\",\"France\",\"Germany\",\"Spain\",\"US\",\"Korea, South\",\"Iran\",\"Switzerland\",\"United Kingdom\",\"Austria\",\"Netherlands\",\"Belgium\"]\n",
    "def topCountries(data,varname):\n",
    "    confirmed = data['confirmed']\n",
    "    recovered = data['recovered_predicted']\n",
    "    deaths = data['deaths']\n",
    "    df = confirmed - recovered - deaths\n",
    "    #create list of top countries\n",
    "    countries = []\n",
    "    l = len(df.columns.values)\n",
    "    for j in range(0,l):\n",
    "        col = df.columns[j:j+1].values\n",
    "        sumDay = sum(df[col[0]].values)\n",
    "        givenDaySeries = df[col[0]].sort_values(ascending=False).head(20)\n",
    "        givenDay = givenDaySeries.to_frame()\n",
    "        givenDay = givenDay[givenDay[col[0]] / sumDay > 0.02]\n",
    "        countries = list(set(countries) | set(givenDay.index))\n",
    "    print(len(countries),countries)\n",
    "    #format data\n",
    "    all = []\n",
    "    l = len(df.columns.values)\n",
    "    for i in range(0,l):\n",
    "        day = []\n",
    "        col = df.columns[i:i+1].values\n",
    "        sumA = sum(confirmed[col[0]].values)\n",
    "        #top cases\n",
    "        nonzero = df[df.index.isin(countries)]\n",
    "        nonzero = nonzero[nonzero[col[0]] / sumA > 0.0025]\n",
    "        onecol = nonzero[col[0]]\n",
    "        onecol = onecol.sort_values(ascending=False)\n",
    "        topten = onecol #.head(10)\n",
    "        sumB = sum(topten.values)\n",
    "        d = topten.to_dict()\n",
    "        for j, c in enumerate(d.items()):\n",
    "            day.append({\"rank\":j,\"place\":c[0],\"count\":c[1], \"pct\":c[1]/sumA, \"date\":col[0]})\n",
    "        #all deaths and recoveries\n",
    "        sumD = sum(deaths[col[0]])\n",
    "        sumR = sum(recovered[col[0]])\n",
    "        #all other\n",
    "        if sumA - (sumB + sumD + sumR) > 0:\n",
    "            n = int(sumA - (sumB + sumD + sumR))\n",
    "            m = float(n/sumA)\n",
    "            day.append({\"rank\":100,\"place\":\"All Other\",\"count\":n, \"pct\":m, \"date\":col[0]})\n",
    "        #add\n",
    "        day.append({\"rank\":101,\"place\":\"Recoveries\",\"count\":sumR, \"pct\":sumR/sumA, \"date\":col[0]})\n",
    "        day.append({\"rank\":102,\"place\":\"Deaths\",\"count\":sumD, \"pct\":sumD/sumA, \"date\":col[0]})\n",
    "        all.append(day)\n",
    "    return makeJSVar(all,varname)"
   ]
  },
  {
   "cell_type": "code",
   "execution_count": 34,
   "metadata": {},
   "outputs": [
    {
     "name": "stdout",
     "output_type": "stream",
     "text": [
      "10 ['Spain', 'Iran', 'US', 'France', 'Germany', 'China', 'United Kingdom', 'South Korea', 'Italy', 'Switzerland']\n"
     ]
    }
   ],
   "source": [
    "getTopGlobalDataJson = topCountries(globalData,\"topGlobalData\")"
   ]
  },
  {
   "cell_type": "code",
   "execution_count": 35,
   "metadata": {},
   "outputs": [
    {
     "data": {
      "text/html": [
       "<div>\n",
       "<style scoped>\n",
       "    .dataframe tbody tr th:only-of-type {\n",
       "        vertical-align: middle;\n",
       "    }\n",
       "\n",
       "    .dataframe tbody tr th {\n",
       "        vertical-align: top;\n",
       "    }\n",
       "\n",
       "    .dataframe thead th {\n",
       "        text-align: right;\n",
       "    }\n",
       "</style>\n",
       "<table border=\"1\" class=\"dataframe\">\n",
       "  <thead>\n",
       "    <tr style=\"text-align: right;\">\n",
       "      <th></th>\n",
       "      <th>Confirmed</th>\n",
       "      <th>Deaths</th>\n",
       "      <th>Est. Recoveries</th>\n",
       "      <th>Outstanding</th>\n",
       "    </tr>\n",
       "  </thead>\n",
       "  <tbody>\n",
       "    <tr>\n",
       "      <th>2020-08-10</th>\n",
       "      <td>20089624</td>\n",
       "      <td>730961</td>\n",
       "      <td>0</td>\n",
       "      <td>19358663</td>\n",
       "    </tr>\n",
       "    <tr>\n",
       "      <th>2020-08-11</th>\n",
       "      <td>20344188</td>\n",
       "      <td>737380</td>\n",
       "      <td>0</td>\n",
       "      <td>19606808</td>\n",
       "    </tr>\n",
       "    <tr>\n",
       "      <th>2020-08-12</th>\n",
       "      <td>20621140</td>\n",
       "      <td>743989</td>\n",
       "      <td>0</td>\n",
       "      <td>19877151</td>\n",
       "    </tr>\n",
       "    <tr>\n",
       "      <th>2020-08-13</th>\n",
       "      <td>20907124</td>\n",
       "      <td>750230</td>\n",
       "      <td>0</td>\n",
       "      <td>20156894</td>\n",
       "    </tr>\n",
       "    <tr>\n",
       "      <th>2020-08-14</th>\n",
       "      <td>21211573</td>\n",
       "      <td>760374</td>\n",
       "      <td>0</td>\n",
       "      <td>20451199</td>\n",
       "    </tr>\n",
       "    <tr>\n",
       "      <th>2020-08-15</th>\n",
       "      <td>21459699</td>\n",
       "      <td>765718</td>\n",
       "      <td>0</td>\n",
       "      <td>20693981</td>\n",
       "    </tr>\n",
       "    <tr>\n",
       "      <th>2020-08-16</th>\n",
       "      <td>21672186</td>\n",
       "      <td>769904</td>\n",
       "      <td>0</td>\n",
       "      <td>20902282</td>\n",
       "    </tr>\n",
       "  </tbody>\n",
       "</table>\n",
       "</div>"
      ],
      "text/plain": [
       "            Confirmed  Deaths  Est. Recoveries  Outstanding\n",
       "2020-08-10   20089624  730961                0     19358663\n",
       "2020-08-11   20344188  737380                0     19606808\n",
       "2020-08-12   20621140  743989                0     19877151\n",
       "2020-08-13   20907124  750230                0     20156894\n",
       "2020-08-14   21211573  760374                0     20451199\n",
       "2020-08-15   21459699  765718                0     20693981\n",
       "2020-08-16   21672186  769904                0     20902282"
      ]
     },
     "execution_count": 35,
     "metadata": {},
     "output_type": "execute_result"
    }
   ],
   "source": [
    "totalConfirmed = globalData['confirmed'].sum(axis=0) \n",
    "totalDeaths = globalData['deaths'].sum(axis=0) \n",
    "totalRecovered = pd.to_numeric(globalData['recovered'].sum(axis=0), downcast='integer')\n",
    "frame = {'Confirmed': totalConfirmed, 'Deaths': totalDeaths, 'Est. Recoveries': totalRecovered, 'Outstanding':totalConfirmed-totalDeaths-totalRecovered}\n",
    "result = pd.DataFrame(frame)\n",
    "result = result.set_index(pd.to_datetime(result.index)).sort_index()\n",
    "result.tail(7)"
   ]
  },
  {
   "cell_type": "code",
   "execution_count": 36,
   "metadata": {},
   "outputs": [],
   "source": [
    "totalConfirmedChina = globalData['confirmed'].loc[\"China\"]\n",
    "tcvC = totalConfirmedChina.values\n",
    "totalRecoveredC = pd.to_numeric(globalData['recovered'].loc[\"China\"], downcast='integer')\n",
    "trvC = totalRecoveredC.values\n",
    "tprvC = trvC[:9]\n",
    "\n",
    "#calculate \n",
    "for n in range(9,len(tcvC)):\n",
    "    v = tprvC[n-1] + (tcvC[n-9] - tprvC[n-1])*0.07\n",
    "    tprvC = np.append(tprvC,v)\n",
    "    \n",
    "frameC = {\"Predicted Recoveries\":tprvC,'Recoveries': totalRecoveredC}\n",
    "resultC = pd.DataFrame(frameC)\n",
    "resultC = resultC.set_index(pd.to_datetime(resultC.index)).sort_index()\n",
    "#resultC"
   ]
  },
  {
   "cell_type": "code",
   "execution_count": 37,
   "metadata": {},
   "outputs": [],
   "source": [
    "totalConfirmedUS = globalData['confirmed'].loc[\"US\"]\n",
    "tcUS = totalConfirmedUS.values\n",
    "totalRecoveredUS = pd.to_numeric(globalData['recovered'].loc[\"US\"], downcast='integer')\n",
    "trvUS = totalRecoveredUS.values\n",
    "tprvUS = trvUS[:9]\n",
    "\n",
    "#calculate \n",
    "for n in range(9,len(tcvC)):\n",
    "    v = tprvUS[n-1] + (tcUS[n-9] - tprvUS[n-1])*0.07\n",
    "    tprvUS = np.append(tprvUS,v)\n",
    "    \n",
    "frameD = {\"Predicted Recoveries\":tprvUS,'Recoveries': totalRecoveredUS}\n",
    "resultD = pd.DataFrame(frameD)\n",
    "resultD = resultD.set_index(pd.to_datetime(resultC.index)).sort_index()\n",
    "#resultD"
   ]
  },
  {
   "cell_type": "code",
   "execution_count": 38,
   "metadata": {},
   "outputs": [],
   "source": [
    "totalConfirmedGlobal = globalData['confirmed'].sum(axis=0) \n",
    "tcvG = totalConfirmedGlobal.values\n",
    "totalRecoveredGlobal = pd.to_numeric(globalData['recovered'].sum(axis=0), downcast='integer')\n",
    "trvG = totalRecoveredGlobal.values\n",
    "tprvG = trvG[:9]\n",
    "\n",
    "#calculate \n",
    "for n in range(9,len(tcvG)):\n",
    "    v = tprvG[n-1] + (tcvG[n-9] - tprvG[n-1])*0.07\n",
    "    tprvG = np.append(tprvG,v)\n",
    "frameG = {\"Predicted Recoveries\":tprvG,'Recoveries': totalRecoveredGlobal}\n",
    "resultG = pd.DataFrame(frameG)\n",
    "resultG = resultG.set_index(pd.to_datetime(resultG.index)).sort_index()"
   ]
  },
  {
   "cell_type": "code",
   "execution_count": 39,
   "metadata": {},
   "outputs": [
    {
     "data": {
      "image/png": "[encoded data removed]",
      "text/plain": [
       "<Figure size 864x432 with 2 Axes>"
      ]
     },
     "metadata": {},
     "output_type": "display_data"
    },
    {
     "data": {
      "application/vnd.jupyter.widget-view+json": {
       "model_id": "6e387a26cfa34ed9a628caea5391331f",
       "version_major": 2,
       "version_minor": 0
      },
      "text/plain": [
       "HBox(children=(FloatProgress(value=0.0, description='Summarize dataset', max=17.0, style=ProgressStyle(descrip…"
      ]
     },
     "metadata": {},
     "output_type": "display_data"
    },
    {
     "name": "stdout",
     "output_type": "stream",
     "text": [
      "\n"
     ]
    },
    {
     "data": {
      "application/vnd.jupyter.widget-view+json": {
       "model_id": "ca73dd51d7da41908798eaf8eb6da29c",
       "version_major": 2,
       "version_minor": 0
      },
      "text/plain": [
       "HBox(children=(FloatProgress(value=0.0, description='Generate report structure', max=1.0, style=ProgressStyle(…"
      ]
     },
     "metadata": {},
     "output_type": "display_data"
    },
    {
     "name": "stdout",
     "output_type": "stream",
     "text": [
      "\n"
     ]
    },
    {
     "data": {
      "application/vnd.jupyter.widget-view+json": {
       "model_id": "4554cabd728744c08a8be65d8884726a",
       "version_major": 2,
       "version_minor": 0
      },
      "text/plain": [
       "HBox(children=(FloatProgress(value=0.0, description='Render HTML', max=1.0, style=ProgressStyle(description_wi…"
      ]
     },
     "metadata": {},
     "output_type": "display_data"
    },
    {
     "name": "stdout",
     "output_type": "stream",
     "text": [
      "\n"
     ]
    },
    {
     "data": {
      "application/vnd.jupyter.widget-view+json": {
       "model_id": "4960f7bc77594ae0a1e237b4613d5a15",
       "version_major": 2,
       "version_minor": 0
      },
      "text/plain": [
       "HBox(children=(FloatProgress(value=0.0, description='Export report to file', max=1.0, style=ProgressStyle(desc…"
      ]
     },
     "metadata": {},
     "output_type": "display_data"
    },
    {
     "name": "stdout",
     "output_type": "stream",
     "text": [
      "\n"
     ]
    },
    {
     "data": {
      "application/vnd.jupyter.widget-view+json": {
       "model_id": "8dd8e5acec7d44f9bcb2b4b890fa59e9",
       "version_major": 2,
       "version_minor": 0
      },
      "text/plain": [
       "HBox(children=(FloatProgress(value=0.0, description='Summarize dataset', max=17.0, style=ProgressStyle(descrip…"
      ]
     },
     "metadata": {},
     "output_type": "display_data"
    },
    {
     "name": "stdout",
     "output_type": "stream",
     "text": [
      "\n"
     ]
    },
    {
     "data": {
      "application/vnd.jupyter.widget-view+json": {
       "model_id": "8f273656b51b4908a054753c16346d76",
       "version_major": 2,
       "version_minor": 0
      },
      "text/plain": [
       "HBox(children=(FloatProgress(value=0.0, description='Generate report structure', max=1.0, style=ProgressStyle(…"
      ]
     },
     "metadata": {},
     "output_type": "display_data"
    },
    {
     "name": "stdout",
     "output_type": "stream",
     "text": [
      "\n"
     ]
    },
    {
     "data": {
      "application/vnd.jupyter.widget-view+json": {
       "model_id": "64ab835a99e042319bcfa0036031cef8",
       "version_major": 2,
       "version_minor": 0
      },
      "text/plain": [
       "HBox(children=(FloatProgress(value=0.0, description='Render HTML', max=1.0, style=ProgressStyle(description_wi…"
      ]
     },
     "metadata": {},
     "output_type": "display_data"
    },
    {
     "name": "stdout",
     "output_type": "stream",
     "text": [
      "\n"
     ]
    },
    {
     "data": {
      "application/vnd.jupyter.widget-view+json": {
       "model_id": "51f5c149d937416b97200679345e5e1c",
       "version_major": 2,
       "version_minor": 0
      },
      "text/plain": [
       "HBox(children=(FloatProgress(value=0.0, description='Export report to file', max=1.0, style=ProgressStyle(desc…"
      ]
     },
     "metadata": {},
     "output_type": "display_data"
    },
    {
     "name": "stdout",
     "output_type": "stream",
     "text": [
      "\n"
     ]
    }
   ],
   "source": [
    "#create subplot figure with having two side by side plots\n",
    "fig, axes = plt.subplots(nrows=1,ncols=2,figsize=(12,6))\n",
    "axes[0].yaxis.set_major_formatter(mpl.ticker.StrMethodFormatter('{x:,.0f}'))\n",
    "axes[1].yaxis.set_major_formatter(mpl.ticker.StrMethodFormatter('{x:,.0f}'))\n",
    "axes[0].set_xlabel('Date')\n",
    "axes[1].set_xlabel('Date')\n",
    "axes[0].set_ylabel('Cases')\n",
    "axes[1].set_ylabel('Cases')\n",
    "axes[0].set_title('Global: Predicted Recoveries')\n",
    "axes[1].set_title(\"China: Predicted Recoveries\")\n",
    "resultG.plot(ax = axes[0]) \n",
    "resultC.plot(ax = axes[1])\n",
    "plt.savefig(\"Global_predicted_recoveries_VS_China\")\n",
    "plt.show()\n",
    "\n",
    "profile = ProfileReport(resultG, title=\"Pandas Profiling Report_Global\", explorative=True)\n",
    "profile.to_file(\"Global_report.html\")\n",
    "profile = ProfileReport(resultC, title=\"Pandas Profiling Report_China\", explorative=True)\n",
    "profile.to_file(\"China_report.html\")"
   ]
  },
  {
   "cell_type": "markdown",
   "metadata": {},
   "source": [
    "print(\"This formula is only being used to predict the number of recoveries from the time that JHU data is not available. We can compare the results of this formula to the existing data from JHU to show the level of fit. This can be seen in the 4 graphs.\")"
   ]
  },
  {
   "cell_type": "code",
   "execution_count": 40,
   "metadata": {},
   "outputs": [
    {
     "data": {
      "image/png": "[encoded data removed]",
      "text/plain": [
       "<Figure size 864x432 with 2 Axes>"
      ]
     },
     "metadata": {},
     "output_type": "display_data"
    },
    {
     "data": {
      "application/vnd.jupyter.widget-view+json": {
       "model_id": "c1ec551279934f8fb246a1db6eb8d1b4",
       "version_major": 2,
       "version_minor": 0
      },
      "text/plain": [
       "HBox(children=(FloatProgress(value=0.0, description='Summarize dataset', max=17.0, style=ProgressStyle(descrip…"
      ]
     },
     "metadata": {},
     "output_type": "display_data"
    },
    {
     "name": "stdout",
     "output_type": "stream",
     "text": [
      "\n"
     ]
    },
    {
     "data": {
      "application/vnd.jupyter.widget-view+json": {
       "model_id": "78285722c97f4996ab8ebcb9d7b7d493",
       "version_major": 2,
       "version_minor": 0
      },
      "text/plain": [
       "HBox(children=(FloatProgress(value=0.0, description='Generate report structure', max=1.0, style=ProgressStyle(…"
      ]
     },
     "metadata": {},
     "output_type": "display_data"
    },
    {
     "name": "stdout",
     "output_type": "stream",
     "text": [
      "\n"
     ]
    },
    {
     "data": {
      "application/vnd.jupyter.widget-view+json": {
       "model_id": "ad0cb62e81fa415bb2ce89ec81f4729f",
       "version_major": 2,
       "version_minor": 0
      },
      "text/plain": [
       "HBox(children=(FloatProgress(value=0.0, description='Render HTML', max=1.0, style=ProgressStyle(description_wi…"
      ]
     },
     "metadata": {},
     "output_type": "display_data"
    },
    {
     "name": "stdout",
     "output_type": "stream",
     "text": [
      "\n"
     ]
    },
    {
     "data": {
      "application/vnd.jupyter.widget-view+json": {
       "model_id": "b8cdf317bcea4567a913d7ab66176c3e",
       "version_major": 2,
       "version_minor": 0
      },
      "text/plain": [
       "HBox(children=(FloatProgress(value=0.0, description='Export report to file', max=1.0, style=ProgressStyle(desc…"
      ]
     },
     "metadata": {},
     "output_type": "display_data"
    },
    {
     "name": "stdout",
     "output_type": "stream",
     "text": [
      "\n"
     ]
    }
   ],
   "source": [
    "#create subplot figure with having two side by side plots\n",
    "fig, axes = plt.subplots(nrows=1,ncols=2,figsize=(12,6))\n",
    "axes[0].yaxis.set_major_formatter(mpl.ticker.StrMethodFormatter('{x:,.0f}'))\n",
    "axes[1].yaxis.set_major_formatter(mpl.ticker.StrMethodFormatter('{x:,.0f}'))\n",
    "axes[0].set_xlabel('Date')\n",
    "axes[1].set_xlabel('Date')\n",
    "axes[0].set_ylabel('Cases')\n",
    "axes[1].set_ylabel('Cases')\n",
    "axes[0].set_title('Global: Predicted Recoveries')\n",
    "axes[1].set_title(\"US: Predicted Recoveries\")\n",
    "resultG.plot(ax = axes[0]) \n",
    "resultD.plot(ax = axes[1])\n",
    "plt.savefig(\"Global_predicted_recoveries_VS_USA\")\n",
    "plt.show()\n",
    "\n",
    "\n",
    "profile = ProfileReport(resultD, title=\"Pandas Profiling Report_US\", explorative=True)\n",
    "profile.to_file(\"US_report.html\")"
   ]
  }
 ],
 "metadata": {
  "kernelspec": {
   "display_name": "Python 3",
   "language": "python",
   "name": "python3"
  },
  "language_info": {
   "codemirror_mode": {
    "name": "ipython",
    "version": 3
   },
   "file_extension": ".py",
   "mimetype": "text/x-python",
   "name": "python",
   "nbconvert_exporter": "python",
   "pygments_lexer": "ipython3",
   "version": "3.8.3"
  }
 },
 "nbformat": 4,
 "nbformat_minor": 4
}
